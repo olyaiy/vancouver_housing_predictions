{
 "cells": [
  {
   "cell_type": "markdown",
   "id": "ebca6f08-8c7f-4a33-b8ec-d35954a13b37",
   "metadata": {},
   "source": [
    "### Title: ### \n",
    "\n",
    "# Examining the effect of Location, Size, and Amenities on Vancouver house prices #"
   ]
  },
  {
   "cell_type": "markdown",
   "id": "1f4d4ae5-6895-4c00-865c-54e6481aa786",
   "metadata": {},
   "source": [
    "**Predictive Question:** \n",
    "Can we predict the selling price of a house in Vancouver based on its location, number of bedrooms and bathrooms, and square footage?\n"
   ]
  },
  {
   "cell_type": "markdown",
   "id": "b7afe94b-98ea-427a-bf73-98e62772e1de",
   "metadata": {},
   "source": [
    "## Introduction: ##\n",
    "- Provide some relevant background information on the topic so that someone unfamiliar with it will be prepared to understand the rest of your proposal\n",
    "- Clearly state the question you will try to answer with your project\n",
    "-Identify and describe the dataset that will be used to answer the question"
   ]
  },
  {
   "cell_type": "markdown",
   "id": "7e6399eb-3354-4110-905c-0c5f6fa37851",
   "metadata": {},
   "source": [
    "# Preliminary exploratory data analysis: #\n",
    "- Demonstrate that the dataset can be read from the web into Python\n",
    "- Clean and wrangle your data into a tidy format\n",
    "- Using only training data, summarize the data in at least one table (this is exploratory data analysis). An example of a useful table could be one that reports the number of observations in each class, the means of the predictor variables you plan to use in your analysis and how many rows have missing data. \n",
    "- Using only training data, visualize the data with at least one plot relevant to the analysis you plan to do (this is exploratory data analysis). An example of a useful visualization could be one that compares the distributions of each of the predictor variables you plan to use in your analysis."
   ]
  },
  {
   "cell_type": "markdown",
   "id": "475e8184-45d6-4311-a6e2-e6afbed972a3",
   "metadata": {},
   "source": [
    "# Methods: #\n",
    "The data analysis will be conducted using regression by the K-nearest neighbors algorithm. The predictive variable used will be the total floor area of each house, a significant feature buyers consider when looking at new properties. This will therefore be a helpful variable to use in the model, allowing one to predict the price based on how big a house is. \n",
    "\n",
    "During our analysis, we will use cross-validation to determine the ideal K value. In general, the K value should follow the overall trend in the training data, while steering clear of the fluctuations and variations in price. This will allow the model to transfer successfully to the new testing data and prevent over/underfitting. After determining the optimal K value, we will train the regression model on the training data set, make predictions on the test data, and compute the RMSPE to evaluate the model.\n",
    "\n",
    "One way we will visualize the results is a scatter plot with floor area and price on the x-axis and y-axis respectively. A prediction line can be added to the scatter plot so that we can visualize how well the regression model fits the data and overall trend.\n"
   ]
  },
  {
   "cell_type": "markdown",
   "id": "de41e7f2-0bb4-44ea-a081-ad96ce6fc76e",
   "metadata": {},
   "source": [
    "# Expected outcomes and significance: #\n",
    "- What do you expect to find?\n",
    "- What impact could such findings have?\n",
    "- What future questions could this lead to?"
   ]
  }
 ],
 "metadata": {
  "kernelspec": {
   "display_name": "Python 3 (ipykernel)",
   "language": "python",
   "name": "python3"
  },
  "language_info": {
   "codemirror_mode": {
    "name": "ipython",
    "version": 3
   },
   "file_extension": ".py",
   "mimetype": "text/x-python",
   "name": "python",
   "nbconvert_exporter": "python",
   "pygments_lexer": "ipython3",
   "version": "3.11.6"
  }
 },
 "nbformat": 4,
 "nbformat_minor": 5
}
