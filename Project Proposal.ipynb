{
 "cells": [
  {
   "cell_type": "markdown",
   "id": "ebca6f08-8c7f-4a33-b8ec-d35954a13b37",
   "metadata": {},
   "source": [
    "### Title: ### \n",
    "\n",
    "# Examining the effect of Square Footage on the selling price of Houses in Vancouver #"
   ]
  },
  {
   "cell_type": "markdown",
   "id": "1f4d4ae5-6895-4c00-865c-54e6481aa786",
   "metadata": {},
   "source": [
    "**Predictive Question:** \n",
    "Can we predict the selling price of a house in Vancouver based on its square footage?"
   ]
  },
  {
   "cell_type": "markdown",
   "id": "b7afe94b-98ea-427a-bf73-98e62772e1de",
   "metadata": {},
   "source": [
    "## Introduction (Arienne): ##\n",
    "- Provide some relevant background information on the topic so that someone unfamiliar with it will be prepared to understand the rest of your proposal\n",
    "- Clearly state the question you will try to answer with your project\n",
    "-Identify and describe the dataset that will be used to answer the question"
   ]
  },
  {
   "cell_type": "markdown",
   "id": "49557597-57cc-4af9-be40-af010729fe98",
   "metadata": {},
   "source": [
    "# Preliminary exploratory data analysis (Alex) : #\n",
    "- Demonstrate that the dataset can be read from the web into Python\n",
    "- Clean and wrangle your data into a tidy format\n",
    "- Using only training data, summarize the data in at least one table (this is exploratory data analysis). An example of a useful table could be one that reports the number of observations in each class, the means of the predictor variables you plan to use in your analysis and how many rows have missing data. \n",
    "- Using only training data, visualize the data with at least one plot relevant to the analysis you plan to do (this is exploratory data analysis). An example of a useful visualization could be one that compares the distributions of each of the predictor variables you plan to use in your analysis."
   ]
  },
  {
   "cell_type": "markdown",
   "id": "c710c23f-7817-493f-9fbb-8f2157dae0bb",
   "metadata": {
    "jp-MarkdownHeadingCollapsed": true
   },
   "source": [
    "## Demonstrating the Data Can Be Read from the Web Into Python: ##"
   ]
  },
  {
   "cell_type": "markdown",
   "id": "bd324911-9465-42eb-880b-b068de6783a0",
   "metadata": {},
   "source": [
    "The dataset that we have chosen for this project is a publicly available dataset from the website Kaggle, which has price data, square footage, and other details about Vancouver houses from its respective time period.\n",
    "\n",
    "https://www.kaggle.com/datasets/darianghorbanian/vancouver-home-price-analysis-regression In order to read our dataset directly from the Kaggle website, we will need to work with the Kaggle API and set it up using an authentication username and key.\n",
    "\n",
    "First, we will install the necessary libraries to use throughout our project."
   ]
  },
  {
   "cell_type": "code",
   "execution_count": 1,
   "id": "d752ea3f-8f69-48a1-b9fb-4a700e716c44",
   "metadata": {},
   "outputs": [],
   "source": [
    "# importing the necessary libraries \n",
    "import pandas as pd\n",
    "import altair as alt\n",
    "from sklearn.model_selection import train_test_split"
   ]
  },
  {
   "cell_type": "markdown",
   "id": "942c675e-0eab-40f2-9665-bc74969776d2",
   "metadata": {},
   "source": [
    "Then we will install the Kaggle package, to interact with the Kaggle API as outlined in their documentation: https://www.kaggle.com/docs/api"
   ]
  },
  {
   "cell_type": "code",
   "execution_count": 2,
   "id": "736cf302-3003-4c68-af7a-16dbeb970241",
   "metadata": {},
   "outputs": [
    {
     "name": "stdout",
     "output_type": "stream",
     "text": [
      "Collecting kaggle\n",
      "  Downloading kaggle-1.6.6.tar.gz (84 kB)\n",
      "\u001b[2K     \u001b[90m━━━━━━━━━━━━━━━━━━━━━━━━━━━━━━━━━━━━━━━━\u001b[0m \u001b[32m84.6/84.6 kB\u001b[0m \u001b[31m5.3 MB/s\u001b[0m eta \u001b[36m0:00:00\u001b[0m\n",
      "\u001b[?25h  Preparing metadata (setup.py) ... \u001b[?25ldone\n",
      "\u001b[?25hRequirement already satisfied: six>=1.10 in /opt/conda/lib/python3.11/site-packages (from kaggle) (1.16.0)\n",
      "Requirement already satisfied: certifi in /opt/conda/lib/python3.11/site-packages (from kaggle) (2023.11.17)\n",
      "Requirement already satisfied: python-dateutil in /opt/conda/lib/python3.11/site-packages (from kaggle) (2.8.2)\n",
      "Requirement already satisfied: requests in /opt/conda/lib/python3.11/site-packages (from kaggle) (2.31.0)\n",
      "Requirement already satisfied: tqdm in /opt/conda/lib/python3.11/site-packages (from kaggle) (4.66.1)\n",
      "Collecting python-slugify (from kaggle)\n",
      "  Downloading python_slugify-8.0.4-py2.py3-none-any.whl.metadata (8.5 kB)\n",
      "Requirement already satisfied: urllib3 in /opt/conda/lib/python3.11/site-packages (from kaggle) (2.0.7)\n",
      "Requirement already satisfied: bleach in /opt/conda/lib/python3.11/site-packages (from kaggle) (6.1.0)\n",
      "Requirement already satisfied: webencodings in /opt/conda/lib/python3.11/site-packages (from bleach->kaggle) (0.5.1)\n",
      "Collecting text-unidecode>=1.3 (from python-slugify->kaggle)\n",
      "  Downloading text_unidecode-1.3-py2.py3-none-any.whl.metadata (2.4 kB)\n",
      "Requirement already satisfied: charset-normalizer<4,>=2 in /opt/conda/lib/python3.11/site-packages (from requests->kaggle) (3.3.0)\n",
      "Requirement already satisfied: idna<4,>=2.5 in /opt/conda/lib/python3.11/site-packages (from requests->kaggle) (3.4)\n",
      "Downloading python_slugify-8.0.4-py2.py3-none-any.whl (10 kB)\n",
      "Downloading text_unidecode-1.3-py2.py3-none-any.whl (78 kB)\n",
      "\u001b[2K   \u001b[90m━━━━━━━━━━━━━━━━━━━━━━━━━━━━━━━━━━━━━━━━\u001b[0m \u001b[32m78.2/78.2 kB\u001b[0m \u001b[31m22.6 MB/s\u001b[0m eta \u001b[36m0:00:00\u001b[0m\n",
      "\u001b[?25hBuilding wheels for collected packages: kaggle\n",
      "  Building wheel for kaggle (setup.py) ... \u001b[?25ldone\n",
      "\u001b[?25h  Created wheel for kaggle: filename=kaggle-1.6.6-py3-none-any.whl size=111943 sha256=2696c20a511fbc38aa2c6b9dfd2b2ffe0a819d942178f528ca353ceec8d83b4c\n",
      "  Stored in directory: /home/jovyan/.cache/pip/wheels/97/06/54/3d44857e6aa73d66d0174f29389e7ea70c007105797e6ec05c\n",
      "Successfully built kaggle\n",
      "Installing collected packages: text-unidecode, python-slugify, kaggle\n",
      "Successfully installed kaggle-1.6.6 python-slugify-8.0.4 text-unidecode-1.3\n"
     ]
    }
   ],
   "source": [
    "# set up Kaggle for downloading data set \n",
    "\n",
    "!pip install kaggle\n",
    "import os\n",
    "\n",
    "os.environ['KAGGLE_USERNAME'] = 'alexannn'\n",
    "os.environ['KAGGLE_KEY'] = '134ddfd9c0609f9493f6766bad383898'"
   ]
  },
  {
   "cell_type": "code",
   "execution_count": 3,
   "id": "6e2c7825-376b-4ac4-8b9c-94a639413625",
   "metadata": {},
   "outputs": [
    {
     "name": "stdout",
     "output_type": "stream",
     "text": [
      "Downloading vancouver-home-price-analysis-regression.zip to /home/jovyan/work/vancouver_housing_predictions\n",
      "  0%|                                               | 0.00/30.1k [00:00<?, ?B/s]\n",
      "100%|██████████████████████████████████████| 30.1k/30.1k [00:00<00:00, 9.93MB/s]\n"
     ]
    }
   ],
   "source": [
    "# download data set\n",
    "!kaggle datasets download -d darianghorbanian/vancouver-home-price-analysis-regression --unzip"
   ]
  },
  {
   "cell_type": "code",
   "execution_count": 4,
   "id": "31f0e8e5-da83-4426-add3-9598fe82682d",
   "metadata": {},
   "outputs": [
    {
     "data": {
      "text/html": [
       "<div>\n",
       "<style scoped>\n",
       "    .dataframe tbody tr th:only-of-type {\n",
       "        vertical-align: middle;\n",
       "    }\n",
       "\n",
       "    .dataframe tbody tr th {\n",
       "        vertical-align: top;\n",
       "    }\n",
       "\n",
       "    .dataframe thead th {\n",
       "        text-align: right;\n",
       "    }\n",
       "</style>\n",
       "<table border=\"1\" class=\"dataframe\">\n",
       "  <thead>\n",
       "    <tr style=\"text-align: right;\">\n",
       "      <th></th>\n",
       "      <th>Number</th>\n",
       "      <th>Address</th>\n",
       "      <th>List Date</th>\n",
       "      <th>Price</th>\n",
       "      <th>Days on market</th>\n",
       "      <th>Total floor area</th>\n",
       "      <th>Year Built</th>\n",
       "      <th>Age</th>\n",
       "      <th>Lot Size</th>\n",
       "    </tr>\n",
       "  </thead>\n",
       "  <tbody>\n",
       "    <tr>\n",
       "      <th>0</th>\n",
       "      <td>1</td>\n",
       "      <td>3178 GRAVELEY STREET</td>\n",
       "      <td>5/8/2020</td>\n",
       "      <td>1500000</td>\n",
       "      <td>18</td>\n",
       "      <td>2447</td>\n",
       "      <td>1946</td>\n",
       "      <td>74</td>\n",
       "      <td>5674.00</td>\n",
       "    </tr>\n",
       "    <tr>\n",
       "      <th>1</th>\n",
       "      <td>2</td>\n",
       "      <td>1438 E 28TH AVENUE</td>\n",
       "      <td>1/22/2020</td>\n",
       "      <td>1300000</td>\n",
       "      <td>7</td>\n",
       "      <td>2146</td>\n",
       "      <td>1982</td>\n",
       "      <td>38</td>\n",
       "      <td>3631.98</td>\n",
       "    </tr>\n",
       "    <tr>\n",
       "      <th>2</th>\n",
       "      <td>3</td>\n",
       "      <td>2831 W 49TH AVENUE</td>\n",
       "      <td>6/18/2019</td>\n",
       "      <td>2650000</td>\n",
       "      <td>1</td>\n",
       "      <td>3108</td>\n",
       "      <td>1929</td>\n",
       "      <td>90</td>\n",
       "      <td>9111.00</td>\n",
       "    </tr>\n",
       "    <tr>\n",
       "      <th>3</th>\n",
       "      <td>4</td>\n",
       "      <td>2645 TRIUMPH STREET</td>\n",
       "      <td>6/18/2019</td>\n",
       "      <td>1385000</td>\n",
       "      <td>28</td>\n",
       "      <td>2602</td>\n",
       "      <td>1922</td>\n",
       "      <td>97</td>\n",
       "      <td>4022.70</td>\n",
       "    </tr>\n",
       "    <tr>\n",
       "      <th>4</th>\n",
       "      <td>5</td>\n",
       "      <td>741-743 E 10TH AVENUE</td>\n",
       "      <td>11/28/2019</td>\n",
       "      <td>1590000</td>\n",
       "      <td>17</td>\n",
       "      <td>1843</td>\n",
       "      <td>1970</td>\n",
       "      <td>49</td>\n",
       "      <td>4026.00</td>\n",
       "    </tr>\n",
       "    <tr>\n",
       "      <th>...</th>\n",
       "      <td>...</td>\n",
       "      <td>...</td>\n",
       "      <td>...</td>\n",
       "      <td>...</td>\n",
       "      <td>...</td>\n",
       "      <td>...</td>\n",
       "      <td>...</td>\n",
       "      <td>...</td>\n",
       "      <td>...</td>\n",
       "    </tr>\n",
       "    <tr>\n",
       "      <th>1297</th>\n",
       "      <td>1298</td>\n",
       "      <td>65 W KING EDWARD AVENUE</td>\n",
       "      <td>8/22/2019</td>\n",
       "      <td>2630000</td>\n",
       "      <td>42</td>\n",
       "      <td>3035</td>\n",
       "      <td>1939</td>\n",
       "      <td>80</td>\n",
       "      <td>7456.00</td>\n",
       "    </tr>\n",
       "    <tr>\n",
       "      <th>1298</th>\n",
       "      <td>1299</td>\n",
       "      <td>3150 E 52ND AVENUE</td>\n",
       "      <td>8/17/2019</td>\n",
       "      <td>1450000</td>\n",
       "      <td>14</td>\n",
       "      <td>2282</td>\n",
       "      <td>1974</td>\n",
       "      <td>45</td>\n",
       "      <td>3993.00</td>\n",
       "    </tr>\n",
       "    <tr>\n",
       "      <th>1299</th>\n",
       "      <td>1300</td>\n",
       "      <td>4478 PRINCE ALBERT STREET</td>\n",
       "      <td>2/24/2020</td>\n",
       "      <td>2798000</td>\n",
       "      <td>4</td>\n",
       "      <td>3501</td>\n",
       "      <td>2016</td>\n",
       "      <td>4</td>\n",
       "      <td>3960.00</td>\n",
       "    </tr>\n",
       "    <tr>\n",
       "      <th>1300</th>\n",
       "      <td>1301</td>\n",
       "      <td>4038 MILLER STREET</td>\n",
       "      <td>4/5/2019</td>\n",
       "      <td>900000</td>\n",
       "      <td>194</td>\n",
       "      <td>2440</td>\n",
       "      <td>1912</td>\n",
       "      <td>107</td>\n",
       "      <td>3297.00</td>\n",
       "    </tr>\n",
       "    <tr>\n",
       "      <th>1301</th>\n",
       "      <td>1302</td>\n",
       "      <td>2040 E 39TH AVENUE</td>\n",
       "      <td>3/3/2020</td>\n",
       "      <td>1600000</td>\n",
       "      <td>7</td>\n",
       "      <td>2627</td>\n",
       "      <td>1974</td>\n",
       "      <td>46</td>\n",
       "      <td>4697.00</td>\n",
       "    </tr>\n",
       "  </tbody>\n",
       "</table>\n",
       "<p>1302 rows × 9 columns</p>\n",
       "</div>"
      ],
      "text/plain": [
       "      Number                    Address   List Date    Price  Days on market  \\\n",
       "0          1       3178 GRAVELEY STREET    5/8/2020  1500000              18   \n",
       "1          2         1438 E 28TH AVENUE   1/22/2020  1300000               7   \n",
       "2          3         2831 W 49TH AVENUE   6/18/2019  2650000               1   \n",
       "3          4        2645 TRIUMPH STREET   6/18/2019  1385000              28   \n",
       "4          5      741-743 E 10TH AVENUE  11/28/2019  1590000              17   \n",
       "...      ...                        ...         ...      ...             ...   \n",
       "1297    1298    65 W KING EDWARD AVENUE   8/22/2019  2630000              42   \n",
       "1298    1299         3150 E 52ND AVENUE   8/17/2019  1450000              14   \n",
       "1299    1300  4478 PRINCE ALBERT STREET   2/24/2020  2798000               4   \n",
       "1300    1301         4038 MILLER STREET    4/5/2019   900000             194   \n",
       "1301    1302         2040 E 39TH AVENUE    3/3/2020  1600000               7   \n",
       "\n",
       "      Total floor area  Year Built  Age  Lot Size  \n",
       "0                 2447        1946   74   5674.00  \n",
       "1                 2146        1982   38   3631.98  \n",
       "2                 3108        1929   90   9111.00  \n",
       "3                 2602        1922   97   4022.70  \n",
       "4                 1843        1970   49   4026.00  \n",
       "...                ...         ...  ...       ...  \n",
       "1297              3035        1939   80   7456.00  \n",
       "1298              2282        1974   45   3993.00  \n",
       "1299              3501        2016    4   3960.00  \n",
       "1300              2440        1912  107   3297.00  \n",
       "1301              2627        1974   46   4697.00  \n",
       "\n",
       "[1302 rows x 9 columns]"
      ]
     },
     "execution_count": 4,
     "metadata": {},
     "output_type": "execute_result"
    }
   ],
   "source": [
    "home_prices = pd.read_csv(\"House sale data Vancouver.csv\")\n",
    "home_prices"
   ]
  },
  {
   "cell_type": "markdown",
   "id": "7f2ca359-5c42-46bf-a227-20bc9d33ee3e",
   "metadata": {
    "jp-MarkdownHeadingCollapsed": true
   },
   "source": [
    "## Cleaning and Wrangling the data into a tidy format: ##"
   ]
  },
  {
   "cell_type": "markdown",
   "id": "0bfb0e11-fab3-478d-93c7-30872dac049f",
   "metadata": {},
   "source": [
    "The tidy data format adheres to the following three principles:\n",
    "1. Each variable corresponds to a column.\n",
    "2. Each observation corresponds to a row.\n",
    "3. Each measurement is a cell value.\n",
    "\n",
    "Fortunately, in our dataset, our data already meets these requirements and is, therefore, considered tidy. However, for the sake of simplicity, we can drop all the columns except those that are relevant to our analysis."
   ]
  },
  {
   "cell_type": "code",
   "execution_count": 5,
   "id": "70afddef-a5f1-4447-83e3-74df5a8bd341",
   "metadata": {},
   "outputs": [],
   "source": [
    "home_prices = home_prices[['Price', 'Total floor area']]"
   ]
  },
  {
   "cell_type": "markdown",
   "id": "7735f91c-9941-4eb8-ad30-454a38944ec0",
   "metadata": {
    "jp-MarkdownHeadingCollapsed": true
   },
   "source": [
    "## Summarizing the data in at least one table: ##"
   ]
  },
  {
   "cell_type": "markdown",
   "id": "4fd60d58-7283-4863-b2c8-a8064eb55bbb",
   "metadata": {},
   "source": [
    "In the following table, we've provided some basic numerical summaries about our dataset. We've included the five-number summary for a quick overview of our data, as well as the standard deviation to represent the spread, the number of missing values, and the overall number of data points."
   ]
  },
  {
   "cell_type": "code",
   "execution_count": 6,
   "id": "ef90f8a6-9c9d-4cbb-85b9-c250e24700dc",
   "metadata": {},
   "outputs": [
    {
     "data": {
      "text/html": [
       "<div>\n",
       "<style scoped>\n",
       "    .dataframe tbody tr th:only-of-type {\n",
       "        vertical-align: middle;\n",
       "    }\n",
       "\n",
       "    .dataframe tbody tr th {\n",
       "        vertical-align: top;\n",
       "    }\n",
       "\n",
       "    .dataframe thead th {\n",
       "        text-align: right;\n",
       "    }\n",
       "</style>\n",
       "<table border=\"1\" class=\"dataframe\">\n",
       "  <thead>\n",
       "    <tr style=\"text-align: right;\">\n",
       "      <th></th>\n",
       "      <th>Total floor area</th>\n",
       "    </tr>\n",
       "  </thead>\n",
       "  <tbody>\n",
       "    <tr>\n",
       "      <th>Count</th>\n",
       "      <td>1302.00</td>\n",
       "    </tr>\n",
       "    <tr>\n",
       "      <th>Mean</th>\n",
       "      <td>2453.41</td>\n",
       "    </tr>\n",
       "    <tr>\n",
       "      <th>Median</th>\n",
       "      <td>2399.00</td>\n",
       "    </tr>\n",
       "    <tr>\n",
       "      <th>Std</th>\n",
       "      <td>700.05</td>\n",
       "    </tr>\n",
       "    <tr>\n",
       "      <th>Min</th>\n",
       "      <td>301.00</td>\n",
       "    </tr>\n",
       "    <tr>\n",
       "      <th>Max</th>\n",
       "      <td>6556.00</td>\n",
       "    </tr>\n",
       "    <tr>\n",
       "      <th>Missing Values</th>\n",
       "      <td>0.00</td>\n",
       "    </tr>\n",
       "    <tr>\n",
       "      <th>25th Percentile</th>\n",
       "      <td>1993.00</td>\n",
       "    </tr>\n",
       "    <tr>\n",
       "      <th>75th Percentile</th>\n",
       "      <td>2837.00</td>\n",
       "    </tr>\n",
       "  </tbody>\n",
       "</table>\n",
       "</div>"
      ],
      "text/plain": [
       "                 Total floor area\n",
       "Count                     1302.00\n",
       "Mean                      2453.41\n",
       "Median                    2399.00\n",
       "Std                        700.05\n",
       "Min                        301.00\n",
       "Max                       6556.00\n",
       "Missing Values               0.00\n",
       "25th Percentile           1993.00\n",
       "75th Percentile           2837.00"
      ]
     },
     "execution_count": 6,
     "metadata": {},
     "output_type": "execute_result"
    }
   ],
   "source": [
    "summary_table = pd.DataFrame({\n",
    "    'Total floor area': [\n",
    "        home_prices['Total floor area'].count(),\n",
    "        round(home_prices['Total floor area'].mean(), 2),\n",
    "        round(home_prices['Total floor area'].median(), 2),\n",
    "        round(home_prices['Total floor area'].std(), 2),\n",
    "        round(home_prices['Total floor area'].min(), 2),\n",
    "        round(home_prices['Total floor area'].max(), 2),\n",
    "        home_prices['Total floor area'].isnull().sum(),\n",
    "        round(home_prices['Total floor area'].quantile(0.25), 2),\n",
    "        round(home_prices['Total floor area'].quantile(0.75), 2)\n",
    "    ]\n",
    "}, index=['Count', 'Mean', 'Median', 'Std', 'Min', 'Max', 'Missing Values', '25th Percentile', '75th Percentile'])\n",
    "\n",
    "# Display the summary table\n",
    "summary_table"
   ]
  },
  {
   "cell_type": "markdown",
   "id": "b2fdecdf-24bf-488e-92b0-990c81a8c163",
   "metadata": {
    "jp-MarkdownHeadingCollapsed": true
   },
   "source": [
    "## Visualize The Data: ##"
   ]
  },
  {
   "cell_type": "markdown",
   "id": "ab14c925-ad0f-46c2-96d6-ba5244131caa",
   "metadata": {},
   "source": [
    "As we have two quantitative variables in our dataset, with Square Footage as our explanatory variable and house selling price as our response variable, we've opted to visualize our data with a bar chart. This choice enables us to convey the distribution of one variable with respect to the other at a glance."
   ]
  },
  {
   "cell_type": "code",
   "execution_count": 7,
   "id": "e7c34f38-f454-4689-8002-214bdc7226d4",
   "metadata": {},
   "outputs": [
    {
     "data": {
      "text/html": [
       "\n",
       "<style>\n",
       "  #altair-viz-6e379088487f432a82647cf0e2988423.vega-embed {\n",
       "    width: 100%;\n",
       "    display: flex;\n",
       "  }\n",
       "\n",
       "  #altair-viz-6e379088487f432a82647cf0e2988423.vega-embed details,\n",
       "  #altair-viz-6e379088487f432a82647cf0e2988423.vega-embed details summary {\n",
       "    position: relative;\n",
       "  }\n",
       "</style>\n",
       "<div id=\"altair-viz-6e379088487f432a82647cf0e2988423\"></div>\n",
       "<script type=\"text/javascript\">\n",
       "  var VEGA_DEBUG = (typeof VEGA_DEBUG == \"undefined\") ? {} : VEGA_DEBUG;\n",
       "  (function(spec, embedOpt){\n",
       "    let outputDiv = document.currentScript.previousElementSibling;\n",
       "    if (outputDiv.id !== \"altair-viz-6e379088487f432a82647cf0e2988423\") {\n",
       "      outputDiv = document.getElementById(\"altair-viz-6e379088487f432a82647cf0e2988423\");\n",
       "    }\n",
       "    const paths = {\n",
       "      \"vega\": \"https://cdn.jsdelivr.net/npm/vega@5?noext\",\n",
       "      \"vega-lib\": \"https://cdn.jsdelivr.net/npm/vega-lib?noext\",\n",
       "      \"vega-lite\": \"https://cdn.jsdelivr.net/npm/vega-lite@5.8.0?noext\",\n",
       "      \"vega-embed\": \"https://cdn.jsdelivr.net/npm/vega-embed@6?noext\",\n",
       "    };\n",
       "\n",
       "    function maybeLoadScript(lib, version) {\n",
       "      var key = `${lib.replace(\"-\", \"\")}_version`;\n",
       "      return (VEGA_DEBUG[key] == version) ?\n",
       "        Promise.resolve(paths[lib]) :\n",
       "        new Promise(function(resolve, reject) {\n",
       "          var s = document.createElement('script');\n",
       "          document.getElementsByTagName(\"head\")[0].appendChild(s);\n",
       "          s.async = true;\n",
       "          s.onload = () => {\n",
       "            VEGA_DEBUG[key] = version;\n",
       "            return resolve(paths[lib]);\n",
       "          };\n",
       "          s.onerror = () => reject(`Error loading script: ${paths[lib]}`);\n",
       "          s.src = paths[lib];\n",
       "        });\n",
       "    }\n",
       "\n",
       "    function showError(err) {\n",
       "      outputDiv.innerHTML = `<div class=\"error\" style=\"color:red;\">${err}</div>`;\n",
       "      throw err;\n",
       "    }\n",
       "\n",
       "    function displayChart(vegaEmbed) {\n",
       "      vegaEmbed(outputDiv, spec, embedOpt)\n",
       "        .catch(err => showError(`Javascript Error: ${err.message}<br>This usually means there's a typo in your chart specification. See the javascript console for the full traceback.`));\n",
       "    }\n",
       "\n",
       "    if(typeof define === \"function\" && define.amd) {\n",
       "      requirejs.config({paths});\n",
       "      require([\"vega-embed\"], displayChart, err => showError(`Error loading script: ${err.message}`));\n",
       "    } else {\n",
       "      maybeLoadScript(\"vega\", \"5\")\n",
       "        .then(() => maybeLoadScript(\"vega-lite\", \"5.8.0\"))\n",
       "        .then(() => maybeLoadScript(\"vega-embed\", \"6\"))\n",
       "        .catch(showError)\n",
       "        .then(() => displayChart(vegaEmbed));\n",
       "    }\n",
       "  })({\"config\": {\"view\": {\"continuousWidth\": 300, \"continuousHeight\": 300}}, \"data\": {\"name\": \"data-e0bbfc030dff36ea7d5d278c8e9c6468\"}, \"mark\": {\"type\": \"circle\", \"opacity\": 0.5}, \"encoding\": {\"tooltip\": [{\"field\": \"Total floor area\", \"type\": \"quantitative\"}, {\"field\": \"Price\", \"type\": \"quantitative\"}], \"x\": {\"field\": \"Total floor area\", \"title\": \"Total Floor Area (sq ft)\", \"type\": \"quantitative\"}, \"y\": {\"field\": \"Price\", \"scale\": {\"domain\": [700000, 3000000]}, \"title\": \"Price (CAD)\", \"type\": \"quantitative\"}}, \"height\": 600, \"title\": \"Scatter Plot of Price vs. Total Floor Area\", \"width\": 600, \"$schema\": \"https://vega.github.io/schema/vega-lite/v5.8.0.json\", \"datasets\": {\"data-e0bbfc030dff36ea7d5d278c8e9c6468\": [{\"Price\": 1500000, \"Total floor area\": 2447}, {\"Price\": 1300000, \"Total floor area\": 2146}, {\"Price\": 2650000, \"Total floor area\": 3108}, {\"Price\": 1385000, \"Total floor area\": 2602}, {\"Price\": 1590000, \"Total floor area\": 1843}, {\"Price\": 2565000, \"Total floor area\": 2439}, {\"Price\": 1303000, \"Total floor area\": 2100}, {\"Price\": 1150000, \"Total floor area\": 1900}, {\"Price\": 2500000, \"Total floor area\": 2133}, {\"Price\": 2400000, \"Total floor area\": 3989}, {\"Price\": 2870000, \"Total floor area\": 3509}, {\"Price\": 1355000, \"Total floor area\": 1902}, {\"Price\": 1638000, \"Total floor area\": 2317}, {\"Price\": 2880000, \"Total floor area\": 2286}, {\"Price\": 1270000, \"Total floor area\": 3128}, {\"Price\": 1175000, \"Total floor area\": 1368}, {\"Price\": 2725000, \"Total floor area\": 3222}, {\"Price\": 1910000, \"Total floor area\": 3011}, {\"Price\": 1181000, \"Total floor area\": 1929}, {\"Price\": 2489000, \"Total floor area\": 3452}, {\"Price\": 1480000, \"Total floor area\": 2373}, {\"Price\": 1300000, \"Total floor area\": 2610}, {\"Price\": 2700000, \"Total floor area\": 2602}, {\"Price\": 1300000, \"Total floor area\": 1920}, {\"Price\": 2910000, \"Total floor area\": 3330}, {\"Price\": 1498000, \"Total floor area\": 2150}, {\"Price\": 2240000, \"Total floor area\": 3612}, {\"Price\": 2275000, \"Total floor area\": 3316}, {\"Price\": 1410000, \"Total floor area\": 3166}, {\"Price\": 1240000, \"Total floor area\": 1600}, {\"Price\": 2823000, \"Total floor area\": 2819}, {\"Price\": 2175000, \"Total floor area\": 2729}, {\"Price\": 1498000, \"Total floor area\": 1799}, {\"Price\": 1200000, \"Total floor area\": 1762}, {\"Price\": 2015000, \"Total floor area\": 3119}, {\"Price\": 1610000, \"Total floor area\": 2951}, {\"Price\": 1570000, \"Total floor area\": 2560}, {\"Price\": 1430000, \"Total floor area\": 1963}, {\"Price\": 2100000, \"Total floor area\": 2450}, {\"Price\": 2898000, \"Total floor area\": 2792}, {\"Price\": 1400000, \"Total floor area\": 2000}, {\"Price\": 1677000, \"Total floor area\": 3036}, {\"Price\": 1700000, \"Total floor area\": 2500}, {\"Price\": 2800000, \"Total floor area\": 3095}, {\"Price\": 1600000, \"Total floor area\": 1122}, {\"Price\": 1580000, \"Total floor area\": 2214}, {\"Price\": 967000, \"Total floor area\": 1958}, {\"Price\": 2300000, \"Total floor area\": 3094}, {\"Price\": 1650000, \"Total floor area\": 2362}, {\"Price\": 1605000, \"Total floor area\": 2381}, {\"Price\": 1175000, \"Total floor area\": 2256}, {\"Price\": 2630000, \"Total floor area\": 4704}, {\"Price\": 1300000, \"Total floor area\": 2167}, {\"Price\": 2320000, \"Total floor area\": 3189}, {\"Price\": 2390000, \"Total floor area\": 3320}, {\"Price\": 2215000, \"Total floor area\": 2033}, {\"Price\": 1370000, \"Total floor area\": 2628}, {\"Price\": 1915000, \"Total floor area\": 2805}, {\"Price\": 2028000, \"Total floor area\": 2300}, {\"Price\": 1188000, \"Total floor area\": 2132}, {\"Price\": 2333333, \"Total floor area\": 3311}, {\"Price\": 1235000, \"Total floor area\": 1521}, {\"Price\": 1910000, \"Total floor area\": 2158}, {\"Price\": 1178000, \"Total floor area\": 1600}, {\"Price\": 1240000, \"Total floor area\": 2125}, {\"Price\": 1225000, \"Total floor area\": 2066}, {\"Price\": 1200000, \"Total floor area\": 1625}, {\"Price\": 1800000, \"Total floor area\": 2711}, {\"Price\": 1295000, \"Total floor area\": 2214}, {\"Price\": 2820000, \"Total floor area\": 4987}, {\"Price\": 2199900, \"Total floor area\": 3455}, {\"Price\": 1890000, \"Total floor area\": 2881}, {\"Price\": 2350000, \"Total floor area\": 1682}, {\"Price\": 1200000, \"Total floor area\": 2661}, {\"Price\": 2435000, \"Total floor area\": 3130}, {\"Price\": 1500000, \"Total floor area\": 2312}, {\"Price\": 1205000, \"Total floor area\": 2253}, {\"Price\": 1250000, \"Total floor area\": 3107}, {\"Price\": 1500000, \"Total floor area\": 1984}, {\"Price\": 2600000, \"Total floor area\": 2177}, {\"Price\": 1300000, \"Total floor area\": 2523}, {\"Price\": 1471500, \"Total floor area\": 2548}, {\"Price\": 1260000, \"Total floor area\": 2273}, {\"Price\": 3000000, \"Total floor area\": 2982}, {\"Price\": 2400000, \"Total floor area\": 2936}, {\"Price\": 1250000, \"Total floor area\": 2554}, {\"Price\": 2300000, \"Total floor area\": 3394}, {\"Price\": 1800000, \"Total floor area\": 2691}, {\"Price\": 2955000, \"Total floor area\": 3196}, {\"Price\": 2355000, \"Total floor area\": 2667}, {\"Price\": 1212500, \"Total floor area\": 1906}, {\"Price\": 1925000, \"Total floor area\": 3191}, {\"Price\": 1908000, \"Total floor area\": 3227}, {\"Price\": 1260000, \"Total floor area\": 1236}, {\"Price\": 2100000, \"Total floor area\": 1911}, {\"Price\": 1100000, \"Total floor area\": 1604}, {\"Price\": 2689000, \"Total floor area\": 1402}, {\"Price\": 1225000, \"Total floor area\": 1702}, {\"Price\": 2550000, \"Total floor area\": 1800}, {\"Price\": 1550000, \"Total floor area\": 2265}, {\"Price\": 1508000, \"Total floor area\": 1674}, {\"Price\": 2296000, \"Total floor area\": 2334}, {\"Price\": 2047619, \"Total floor area\": 3748}, {\"Price\": 1420000, \"Total floor area\": 2005}, {\"Price\": 1988000, \"Total floor area\": 2660}, {\"Price\": 1100000, \"Total floor area\": 2439}, {\"Price\": 2648000, \"Total floor area\": 3814}, {\"Price\": 1470000, \"Total floor area\": 2160}, {\"Price\": 1360000, \"Total floor area\": 2596}, {\"Price\": 2408000, \"Total floor area\": 2953}, {\"Price\": 2152000, \"Total floor area\": 3416}, {\"Price\": 2500000, \"Total floor area\": 2181}, {\"Price\": 2068000, \"Total floor area\": 3657}, {\"Price\": 2025000, \"Total floor area\": 2360}, {\"Price\": 1125000, \"Total floor area\": 1499}, {\"Price\": 1940000, \"Total floor area\": 3010}, {\"Price\": 1480000, \"Total floor area\": 1005}, {\"Price\": 1550000, \"Total floor area\": 2860}, {\"Price\": 2480000, \"Total floor area\": 2923}, {\"Price\": 1361500, \"Total floor area\": 2065}, {\"Price\": 862500, \"Total floor area\": 1800}, {\"Price\": 1150000, \"Total floor area\": 1967}, {\"Price\": 1350000, \"Total floor area\": 2099}, {\"Price\": 2361905, \"Total floor area\": 3906}, {\"Price\": 1750000, \"Total floor area\": 2385}, {\"Price\": 1516789, \"Total floor area\": 2000}, {\"Price\": 1200000, \"Total floor area\": 2033}, {\"Price\": 2548000, \"Total floor area\": 2170}, {\"Price\": 2900000, \"Total floor area\": 3715}, {\"Price\": 1150000, \"Total floor area\": 1504}, {\"Price\": 1649000, \"Total floor area\": 2465}, {\"Price\": 1588000, \"Total floor area\": 2369}, {\"Price\": 1998000, \"Total floor area\": 1701}, {\"Price\": 1120000, \"Total floor area\": 2230}, {\"Price\": 2985000, \"Total floor area\": 3275}, {\"Price\": 2030000, \"Total floor area\": 3107}, {\"Price\": 1415000, \"Total floor area\": 1584}, {\"Price\": 3000000, \"Total floor area\": 3503}, {\"Price\": 1690000, \"Total floor area\": 2391}, {\"Price\": 2650000, \"Total floor area\": 3011}, {\"Price\": 1910000, \"Total floor area\": 3611}, {\"Price\": 2440000, \"Total floor area\": 3777}, {\"Price\": 1150000, \"Total floor area\": 2746}, {\"Price\": 1800000, \"Total floor area\": 2508}, {\"Price\": 1815000, \"Total floor area\": 1321}, {\"Price\": 1825000, \"Total floor area\": 3664}, {\"Price\": 1150000, \"Total floor area\": 1784}, {\"Price\": 1180000, \"Total floor area\": 1798}, {\"Price\": 1090000, \"Total floor area\": 1891}, {\"Price\": 1835000, \"Total floor area\": 3613}, {\"Price\": 1380000, \"Total floor area\": 1906}, {\"Price\": 2299000, \"Total floor area\": 3142}, {\"Price\": 1380000, \"Total floor area\": 2250}, {\"Price\": 2415000, \"Total floor area\": 3870}, {\"Price\": 1848000, \"Total floor area\": 3059}, {\"Price\": 1715000, \"Total floor area\": 2213}, {\"Price\": 1574000, \"Total floor area\": 2868}, {\"Price\": 1290000, \"Total floor area\": 2209}, {\"Price\": 1665000, \"Total floor area\": 2609}, {\"Price\": 1300000, \"Total floor area\": 2418}, {\"Price\": 1915000, \"Total floor area\": 2117}, {\"Price\": 2050000, \"Total floor area\": 1801}, {\"Price\": 2300000, \"Total floor area\": 2251}, {\"Price\": 2685000, \"Total floor area\": 3490}, {\"Price\": 1355000, \"Total floor area\": 2385}, {\"Price\": 2175000, \"Total floor area\": 3658}, {\"Price\": 1748000, \"Total floor area\": 2420}, {\"Price\": 1425000, \"Total floor area\": 2591}, {\"Price\": 1168000, \"Total floor area\": 1812}, {\"Price\": 1150000, \"Total floor area\": 2505}, {\"Price\": 2550000, \"Total floor area\": 3294}, {\"Price\": 1235000, \"Total floor area\": 1974}, {\"Price\": 2955000, \"Total floor area\": 2588}, {\"Price\": 1300000, \"Total floor area\": 2498}, {\"Price\": 2255000, \"Total floor area\": 3089}, {\"Price\": 1575000, \"Total floor area\": 2684}, {\"Price\": 1762000, \"Total floor area\": 2620}, {\"Price\": 1867000, \"Total floor area\": 2506}, {\"Price\": 2175000, \"Total floor area\": 3414}, {\"Price\": 2800000, \"Total floor area\": 2871}, {\"Price\": 2090000, \"Total floor area\": 3000}, {\"Price\": 1270000, \"Total floor area\": 1834}, {\"Price\": 1675000, \"Total floor area\": 2074}, {\"Price\": 2140000, \"Total floor area\": 3445}, {\"Price\": 2610000, \"Total floor area\": 2441}, {\"Price\": 1371100, \"Total floor area\": 2603}, {\"Price\": 1638000, \"Total floor area\": 1918}, {\"Price\": 1700000, \"Total floor area\": 3597}, {\"Price\": 2195000, \"Total floor area\": 3540}, {\"Price\": 1500000, \"Total floor area\": 2206}, {\"Price\": 1390000, \"Total floor area\": 3100}, {\"Price\": 1480000, \"Total floor area\": 2110}, {\"Price\": 1225000, \"Total floor area\": 2324}, {\"Price\": 1325000, \"Total floor area\": 2400}, {\"Price\": 1750000, \"Total floor area\": 2414}, {\"Price\": 2150000, \"Total floor area\": 3453}, {\"Price\": 3000000, \"Total floor area\": 3329}, {\"Price\": 1150000, \"Total floor area\": 1700}, {\"Price\": 2480000, \"Total floor area\": 2925}, {\"Price\": 1000000, \"Total floor area\": 938}, {\"Price\": 1520000, \"Total floor area\": 2182}, {\"Price\": 2171428, \"Total floor area\": 3491}, {\"Price\": 1218000, \"Total floor area\": 1976}, {\"Price\": 1398888, \"Total floor area\": 2497}, {\"Price\": 2388000, \"Total floor area\": 3146}, {\"Price\": 1575000, \"Total floor area\": 1912}, {\"Price\": 1750000, \"Total floor area\": 3082}, {\"Price\": 1025000, \"Total floor area\": 3108}, {\"Price\": 1150000, \"Total floor area\": 1547}, {\"Price\": 2258000, \"Total floor area\": 2814}, {\"Price\": 1818000, \"Total floor area\": 2369}, {\"Price\": 2228000, \"Total floor area\": 3363}, {\"Price\": 1155000, \"Total floor area\": 2007}, {\"Price\": 2150000, \"Total floor area\": 2767}, {\"Price\": 1415000, \"Total floor area\": 2474}, {\"Price\": 1225000, \"Total floor area\": 2142}, {\"Price\": 1840000, \"Total floor area\": 2232}, {\"Price\": 1330000, \"Total floor area\": 2098}, {\"Price\": 1288000, \"Total floor area\": 2705}, {\"Price\": 1888000, \"Total floor area\": 3867}, {\"Price\": 1228000, \"Total floor area\": 2716}, {\"Price\": 900000, \"Total floor area\": 1700}, {\"Price\": 2470000, \"Total floor area\": 2450}, {\"Price\": 1010000, \"Total floor area\": 2032}, {\"Price\": 1865000, \"Total floor area\": 3231}, {\"Price\": 2830000, \"Total floor area\": 3894}, {\"Price\": 1199000, \"Total floor area\": 2666}, {\"Price\": 1710000, \"Total floor area\": 2457}, {\"Price\": 1851000, \"Total floor area\": 2580}, {\"Price\": 2012000, \"Total floor area\": 2361}, {\"Price\": 2700000, \"Total floor area\": 2195}, {\"Price\": 2248000, \"Total floor area\": 2468}, {\"Price\": 1885000, \"Total floor area\": 2317}, {\"Price\": 1950000, \"Total floor area\": 3900}, {\"Price\": 1999999, \"Total floor area\": 2065}, {\"Price\": 1450000, \"Total floor area\": 1668}, {\"Price\": 1900000, \"Total floor area\": 2644}, {\"Price\": 2650000, \"Total floor area\": 2958}, {\"Price\": 1445000, \"Total floor area\": 2425}, {\"Price\": 2880000, \"Total floor area\": 3749}, {\"Price\": 2070000, \"Total floor area\": 3573}, {\"Price\": 1275000, \"Total floor area\": 2990}, {\"Price\": 2556000, \"Total floor area\": 3000}, {\"Price\": 1450000, \"Total floor area\": 2229}, {\"Price\": 1856500, \"Total floor area\": 3100}, {\"Price\": 2350000, \"Total floor area\": 2417}, {\"Price\": 1302000, \"Total floor area\": 834}, {\"Price\": 2200000, \"Total floor area\": 2663}, {\"Price\": 2250000, \"Total floor area\": 3550}, {\"Price\": 2430000, \"Total floor area\": 3313}, {\"Price\": 1298000, \"Total floor area\": 1925}, {\"Price\": 2383325, \"Total floor area\": 2121}, {\"Price\": 1415000, \"Total floor area\": 2410}, {\"Price\": 2860000, \"Total floor area\": 4263}, {\"Price\": 1870000, \"Total floor area\": 3078}, {\"Price\": 2318888, \"Total floor area\": 2200}, {\"Price\": 2190476, \"Total floor area\": 3559}, {\"Price\": 1550000, \"Total floor area\": 2386}, {\"Price\": 1264300, \"Total floor area\": 1600}, {\"Price\": 1808000, \"Total floor area\": 2876}, {\"Price\": 2556000, \"Total floor area\": 3456}, {\"Price\": 2378000, \"Total floor area\": 2731}, {\"Price\": 1365000, \"Total floor area\": 1733}, {\"Price\": 1260000, \"Total floor area\": 1918}, {\"Price\": 1310000, \"Total floor area\": 1927}, {\"Price\": 2274200, \"Total floor area\": 3529}, {\"Price\": 2830000, \"Total floor area\": 2625}, {\"Price\": 2348500, \"Total floor area\": 2582}, {\"Price\": 1100000, \"Total floor area\": 2212}, {\"Price\": 1629000, \"Total floor area\": 2481}, {\"Price\": 1720000, \"Total floor area\": 2808}, {\"Price\": 2800000, \"Total floor area\": 2823}, {\"Price\": 1990000, \"Total floor area\": 2353}, {\"Price\": 1190000, \"Total floor area\": 1672}, {\"Price\": 1290000, \"Total floor area\": 2520}, {\"Price\": 1650000, \"Total floor area\": 2034}, {\"Price\": 1520000, \"Total floor area\": 1980}, {\"Price\": 1368888, \"Total floor area\": 2005}, {\"Price\": 1325000, \"Total floor area\": 1058}, {\"Price\": 2300000, \"Total floor area\": 5615}, {\"Price\": 983000, \"Total floor area\": 1480}, {\"Price\": 1200000, \"Total floor area\": 1974}, {\"Price\": 1400000, \"Total floor area\": 2564}, {\"Price\": 2010000, \"Total floor area\": 2838}, {\"Price\": 1430000, \"Total floor area\": 2548}, {\"Price\": 1088000, \"Total floor area\": 1674}, {\"Price\": 1650000, \"Total floor area\": 2682}, {\"Price\": 2051000, \"Total floor area\": 2915}, {\"Price\": 2300000, \"Total floor area\": 1930}, {\"Price\": 1437000, \"Total floor area\": 2840}, {\"Price\": 1790000, \"Total floor area\": 1660}, {\"Price\": 2430000, \"Total floor area\": 2587}, {\"Price\": 2200000, \"Total floor area\": 3211}, {\"Price\": 2241000, \"Total floor area\": 2421}, {\"Price\": 1155000, \"Total floor area\": 1484}, {\"Price\": 1560000, \"Total floor area\": 3098}, {\"Price\": 1538100, \"Total floor area\": 3075}, {\"Price\": 1350000, \"Total floor area\": 2525}, {\"Price\": 1449000, \"Total floor area\": 2349}, {\"Price\": 1400000, \"Total floor area\": 1953}, {\"Price\": 1440000, \"Total floor area\": 2198}, {\"Price\": 1210000, \"Total floor area\": 1880}, {\"Price\": 2025000, \"Total floor area\": 3185}, {\"Price\": 1713000, \"Total floor area\": 1831}, {\"Price\": 2350000, \"Total floor area\": 2694}, {\"Price\": 1390000, \"Total floor area\": 2600}, {\"Price\": 2300000, \"Total floor area\": 3206}, {\"Price\": 2800000, \"Total floor area\": 2658}, {\"Price\": 1125000, \"Total floor area\": 1974}, {\"Price\": 3000000, \"Total floor area\": 3602}, {\"Price\": 2170000, \"Total floor area\": 2549}, {\"Price\": 2300000, \"Total floor area\": 3228}, {\"Price\": 1780000, \"Total floor area\": 3300}, {\"Price\": 1880000, \"Total floor area\": 2878}, {\"Price\": 815000, \"Total floor area\": 400}, {\"Price\": 1580000, \"Total floor area\": 2895}, {\"Price\": 1899000, \"Total floor area\": 2433}, {\"Price\": 1130000, \"Total floor area\": 1709}, {\"Price\": 2200000, \"Total floor area\": 3100}, {\"Price\": 2118000, \"Total floor area\": 2494}, {\"Price\": 1495000, \"Total floor area\": 1626}, {\"Price\": 1608000, \"Total floor area\": 2763}, {\"Price\": 1333000, \"Total floor area\": 2130}, {\"Price\": 1590000, \"Total floor area\": 2571}, {\"Price\": 2760000, \"Total floor area\": 1616}, {\"Price\": 2160000, \"Total floor area\": 2911}, {\"Price\": 2388000, \"Total floor area\": 3493}, {\"Price\": 2250000, \"Total floor area\": 2259}, {\"Price\": 1335000, \"Total floor area\": 1845}, {\"Price\": 1880000, \"Total floor area\": 2460}, {\"Price\": 1357000, \"Total floor area\": 1993}, {\"Price\": 2060000, \"Total floor area\": 3078}, {\"Price\": 1319000, \"Total floor area\": 1809}, {\"Price\": 1526000, \"Total floor area\": 2142}, {\"Price\": 1340000, \"Total floor area\": 2154}, {\"Price\": 1175000, \"Total floor area\": 1754}, {\"Price\": 1150000, \"Total floor area\": 1864}, {\"Price\": 2000000, \"Total floor area\": 2179}, {\"Price\": 1661000, \"Total floor area\": 1678}, {\"Price\": 999999, \"Total floor area\": 1445}, {\"Price\": 2420000, \"Total floor area\": 3856}, {\"Price\": 2898000, \"Total floor area\": 734}, {\"Price\": 2060000, \"Total floor area\": 2908}, {\"Price\": 1850000, \"Total floor area\": 2466}, {\"Price\": 1300000, \"Total floor area\": 1680}, {\"Price\": 1175000, \"Total floor area\": 2944}, {\"Price\": 1370000, \"Total floor area\": 1950}, {\"Price\": 1308000, \"Total floor area\": 1585}, {\"Price\": 1520000, \"Total floor area\": 2404}, {\"Price\": 2350000, \"Total floor area\": 2881}, {\"Price\": 1860000, \"Total floor area\": 2970}, {\"Price\": 1570000, \"Total floor area\": 2732}, {\"Price\": 1380000, \"Total floor area\": 2109}, {\"Price\": 1455000, \"Total floor area\": 2426}, {\"Price\": 1750000, \"Total floor area\": 2537}, {\"Price\": 1350000, \"Total floor area\": 2021}, {\"Price\": 2068000, \"Total floor area\": 1508}, {\"Price\": 1850000, \"Total floor area\": 1944}, {\"Price\": 1970000, \"Total floor area\": 1680}, {\"Price\": 1550000, \"Total floor area\": 2280}, {\"Price\": 1161900, \"Total floor area\": 2508}, {\"Price\": 1600000, \"Total floor area\": 2621}, {\"Price\": 1400000, \"Total floor area\": 2715}, {\"Price\": 2088000, \"Total floor area\": 2588}, {\"Price\": 2505000, \"Total floor area\": 3146}, {\"Price\": 2380000, \"Total floor area\": 2421}, {\"Price\": 1250000, \"Total floor area\": 1670}, {\"Price\": 1099000, \"Total floor area\": 1500}, {\"Price\": 2250000, \"Total floor area\": 2100}, {\"Price\": 1440000, \"Total floor area\": 2400}, {\"Price\": 1418000, \"Total floor area\": 2341}, {\"Price\": 2450000, \"Total floor area\": 2387}, {\"Price\": 1970000, \"Total floor area\": 3808}, {\"Price\": 2980000, \"Total floor area\": 3435}, {\"Price\": 1728888, \"Total floor area\": 2288}, {\"Price\": 1950000, \"Total floor area\": 2634}, {\"Price\": 1190000, \"Total floor area\": 880}, {\"Price\": 1433800, \"Total floor area\": 1899}, {\"Price\": 1048000, \"Total floor area\": 1500}, {\"Price\": 1570000, \"Total floor area\": 3389}, {\"Price\": 1370000, \"Total floor area\": 2363}, {\"Price\": 1524900, \"Total floor area\": 2070}, {\"Price\": 1632000, \"Total floor area\": 1560}, {\"Price\": 1512000, \"Total floor area\": 1814}, {\"Price\": 2400000, \"Total floor area\": 2568}, {\"Price\": 2480000, \"Total floor area\": 3511}, {\"Price\": 1325000, \"Total floor area\": 1792}, {\"Price\": 2330000, \"Total floor area\": 2226}, {\"Price\": 1550000, \"Total floor area\": 3479}, {\"Price\": 1381000, \"Total floor area\": 1565}, {\"Price\": 2199000, \"Total floor area\": 3262}, {\"Price\": 2880000, \"Total floor area\": 3475}, {\"Price\": 1680000, \"Total floor area\": 2790}, {\"Price\": 1180000, \"Total floor area\": 2275}, {\"Price\": 1320000, \"Total floor area\": 2497}, {\"Price\": 1480000, \"Total floor area\": 1633}, {\"Price\": 2050000, \"Total floor area\": 3285}, {\"Price\": 2118000, \"Total floor area\": 2383}, {\"Price\": 1195000, \"Total floor area\": 1677}, {\"Price\": 2368000, \"Total floor area\": 2807}, {\"Price\": 2560000, \"Total floor area\": 2338}, {\"Price\": 1475000, \"Total floor area\": 2346}, {\"Price\": 2040000, \"Total floor area\": 3571}, {\"Price\": 1718000, \"Total floor area\": 3271}, {\"Price\": 1500000, \"Total floor area\": 2325}, {\"Price\": 1552888, \"Total floor area\": 2709}, {\"Price\": 2200000, \"Total floor area\": 2400}, {\"Price\": 1148000, \"Total floor area\": 1613}, {\"Price\": 1588000, \"Total floor area\": 3066}, {\"Price\": 1558800, \"Total floor area\": 1991}, {\"Price\": 1268000, \"Total floor area\": 2423}, {\"Price\": 1385000, \"Total floor area\": 2400}, {\"Price\": 1364000, \"Total floor area\": 2650}, {\"Price\": 2830000, \"Total floor area\": 2812}, {\"Price\": 965000, \"Total floor area\": 1600}, {\"Price\": 1731000, \"Total floor area\": 3715}, {\"Price\": 1650000, \"Total floor area\": 2693}, {\"Price\": 1650000, \"Total floor area\": 2653}, {\"Price\": 1372000, \"Total floor area\": 2493}, {\"Price\": 2420000, \"Total floor area\": 3227}, {\"Price\": 1850000, \"Total floor area\": 2479}, {\"Price\": 1320000, \"Total floor area\": 1746}, {\"Price\": 1590000, \"Total floor area\": 2802}, {\"Price\": 1668000, \"Total floor area\": 2475}, {\"Price\": 1480000, \"Total floor area\": 2636}, {\"Price\": 1150000, \"Total floor area\": 1907}, {\"Price\": 1080000, \"Total floor area\": 2206}, {\"Price\": 1748000, \"Total floor area\": 2409}, {\"Price\": 2330000, \"Total floor area\": 4244}, {\"Price\": 1250000, \"Total floor area\": 2184}, {\"Price\": 1640000, \"Total floor area\": 2607}, {\"Price\": 1500000, \"Total floor area\": 3108}, {\"Price\": 1365000, \"Total floor area\": 1334}, {\"Price\": 1700000, \"Total floor area\": 2714}, {\"Price\": 2910000, \"Total floor area\": 2680}, {\"Price\": 1250000, \"Total floor area\": 3044}, {\"Price\": 1338000, \"Total floor area\": 2387}, {\"Price\": 1320000, \"Total floor area\": 1438}, {\"Price\": 2761000, \"Total floor area\": 2704}, {\"Price\": 2730000, \"Total floor area\": 2800}, {\"Price\": 2250000, \"Total floor area\": 3342}, {\"Price\": 1560000, \"Total floor area\": 2456}, {\"Price\": 2198000, \"Total floor area\": 2296}, {\"Price\": 1465000, \"Total floor area\": 1397}, {\"Price\": 1385000, \"Total floor area\": 2366}, {\"Price\": 1300000, \"Total floor area\": 2248}, {\"Price\": 2133000, \"Total floor area\": 3432}, {\"Price\": 1545000, \"Total floor area\": 2360}, {\"Price\": 1280000, \"Total floor area\": 2368}, {\"Price\": 1050000, \"Total floor area\": 2610}, {\"Price\": 1557000, \"Total floor area\": 1590}, {\"Price\": 1224000, \"Total floor area\": 2210}, {\"Price\": 1467500, \"Total floor area\": 1595}, {\"Price\": 1500000, \"Total floor area\": 2420}, {\"Price\": 1460000, \"Total floor area\": 974}, {\"Price\": 2195000, \"Total floor area\": 3850}, {\"Price\": 2238095, \"Total floor area\": 4012}, {\"Price\": 1460000, \"Total floor area\": 2591}, {\"Price\": 2180952, \"Total floor area\": 3857}, {\"Price\": 1130000, \"Total floor area\": 825}, {\"Price\": 1320000, \"Total floor area\": 3316}, {\"Price\": 2175000, \"Total floor area\": 3415}, {\"Price\": 2320000, \"Total floor area\": 2404}, {\"Price\": 1300000, \"Total floor area\": 2411}, {\"Price\": 1450000, \"Total floor area\": 2802}, {\"Price\": 1558000, \"Total floor area\": 2232}, {\"Price\": 1343000, \"Total floor area\": 2112}, {\"Price\": 1625000, \"Total floor area\": 2371}, {\"Price\": 2350000, \"Total floor area\": 2832}, {\"Price\": 1445000, \"Total floor area\": 1490}, {\"Price\": 1150000, \"Total floor area\": 1950}, {\"Price\": 2300000, \"Total floor area\": 3668}, {\"Price\": 1669500, \"Total floor area\": 2738}, {\"Price\": 1631000, \"Total floor area\": 1980}, {\"Price\": 950000, \"Total floor area\": 2009}, {\"Price\": 1200000, \"Total floor area\": 2098}, {\"Price\": 1549000, \"Total floor area\": 2834}, {\"Price\": 2880000, \"Total floor area\": 2957}, {\"Price\": 1050000, \"Total floor area\": 1473}, {\"Price\": 1900000, \"Total floor area\": 2713}, {\"Price\": 1410000, \"Total floor area\": 2096}, {\"Price\": 1800000, \"Total floor area\": 2497}, {\"Price\": 1405000, \"Total floor area\": 2686}, {\"Price\": 2100000, \"Total floor area\": 1962}, {\"Price\": 1500000, \"Total floor area\": 2100}, {\"Price\": 999000, \"Total floor area\": 2000}, {\"Price\": 2040000, \"Total floor area\": 2506}, {\"Price\": 1420000, \"Total floor area\": 1315}, {\"Price\": 1480000, \"Total floor area\": 2246}, {\"Price\": 2760000, \"Total floor area\": 3367}, {\"Price\": 1228800, \"Total floor area\": 1054}, {\"Price\": 1590000, \"Total floor area\": 2715}, {\"Price\": 2600000, \"Total floor area\": 4026}, {\"Price\": 2602000, \"Total floor area\": 2772}, {\"Price\": 1610000, \"Total floor area\": 2343}, {\"Price\": 1262000, \"Total floor area\": 2167}, {\"Price\": 1450000, \"Total floor area\": 2570}, {\"Price\": 1538000, \"Total floor area\": 2320}, {\"Price\": 1353777, \"Total floor area\": 2642}, {\"Price\": 1514000, \"Total floor area\": 2376}, {\"Price\": 1233000, \"Total floor area\": 2272}, {\"Price\": 1383000, \"Total floor area\": 1512}, {\"Price\": 2050000, \"Total floor area\": 2141}, {\"Price\": 1500000, \"Total floor area\": 1950}, {\"Price\": 1350000, \"Total floor area\": 2182}, {\"Price\": 1120000, \"Total floor area\": 2168}, {\"Price\": 2243286, \"Total floor area\": 3788}, {\"Price\": 1200000, \"Total floor area\": 2070}, {\"Price\": 1250000, \"Total floor area\": 1868}, {\"Price\": 1812000, \"Total floor area\": 2244}, {\"Price\": 2262500, \"Total floor area\": 1850}, {\"Price\": 1581000, \"Total floor area\": 2378}, {\"Price\": 2770000, \"Total floor area\": 3359}, {\"Price\": 2825000, \"Total floor area\": 3960}, {\"Price\": 1600000, \"Total floor area\": 1694}, {\"Price\": 2800000, \"Total floor area\": 3502}, {\"Price\": 3000000, \"Total floor area\": 3296}, {\"Price\": 1500000, \"Total floor area\": 2165}, {\"Price\": 2150000, \"Total floor area\": 2960}, {\"Price\": 1266000, \"Total floor area\": 1787}, {\"Price\": 1660000, \"Total floor area\": 2308}, {\"Price\": 1627500, \"Total floor area\": 2417}, {\"Price\": 2650000, \"Total floor area\": 2308}, {\"Price\": 1051525, \"Total floor area\": 2541}, {\"Price\": 2521000, \"Total floor area\": 2849}, {\"Price\": 2239047, \"Total floor area\": 2858}, {\"Price\": 2520000, \"Total floor area\": 2751}, {\"Price\": 2040000, \"Total floor area\": 2874}, {\"Price\": 2560000, \"Total floor area\": 2250}, {\"Price\": 2223000, \"Total floor area\": 985}, {\"Price\": 2100000, \"Total floor area\": 2863}, {\"Price\": 1430000, \"Total floor area\": 1720}, {\"Price\": 1780000, \"Total floor area\": 2228}, {\"Price\": 1690000, \"Total floor area\": 3210}, {\"Price\": 2300000, \"Total floor area\": 3878}, {\"Price\": 815000, \"Total floor area\": 1074}, {\"Price\": 2478000, \"Total floor area\": 2475}, {\"Price\": 1250000, \"Total floor area\": 2793}, {\"Price\": 2960000, \"Total floor area\": 2473}, {\"Price\": 1930000, \"Total floor area\": 3522}, {\"Price\": 1295000, \"Total floor area\": 2163}, {\"Price\": 2135000, \"Total floor area\": 2095}, {\"Price\": 2400000, \"Total floor area\": 2849}, {\"Price\": 1425000, \"Total floor area\": 2040}, {\"Price\": 1520000, \"Total floor area\": 2511}, {\"Price\": 2830000, \"Total floor area\": 3426}, {\"Price\": 2223810, \"Total floor area\": 2301}, {\"Price\": 1375000, \"Total floor area\": 2516}, {\"Price\": 2160000, \"Total floor area\": 4387}, {\"Price\": 1820000, \"Total floor area\": 2174}, {\"Price\": 1190000, \"Total floor area\": 2250}, {\"Price\": 2920000, \"Total floor area\": 2873}, {\"Price\": 1215000, \"Total floor area\": 1964}, {\"Price\": 2175000, \"Total floor area\": 3264}, {\"Price\": 1602000, \"Total floor area\": 1620}, {\"Price\": 1510000, \"Total floor area\": 2505}, {\"Price\": 1349000, \"Total floor area\": 2218}, {\"Price\": 1350000, \"Total floor area\": 2536}, {\"Price\": 2475000, \"Total floor area\": 3361}, {\"Price\": 1438000, \"Total floor area\": 1690}, {\"Price\": 1295000, \"Total floor area\": 2004}, {\"Price\": 2408000, \"Total floor area\": 2429}, {\"Price\": 2575000, \"Total floor area\": 3385}, {\"Price\": 997000, \"Total floor area\": 1747}, {\"Price\": 2900000, \"Total floor area\": 2745}, {\"Price\": 1551000, \"Total floor area\": 2400}, {\"Price\": 2476190, \"Total floor area\": 2564}, {\"Price\": 2520000, \"Total floor area\": 2290}, {\"Price\": 1600000, \"Total floor area\": 2964}, {\"Price\": 750000, \"Total floor area\": 1153}, {\"Price\": 1565000, \"Total floor area\": 2204}, {\"Price\": 1935000, \"Total floor area\": 3060}, {\"Price\": 1413000, \"Total floor area\": 1668}, {\"Price\": 1150000, \"Total floor area\": 1539}, {\"Price\": 1635000, \"Total floor area\": 3036}, {\"Price\": 2800000, \"Total floor area\": 3422}, {\"Price\": 1075000, \"Total floor area\": 1800}, {\"Price\": 1360000, \"Total floor area\": 2200}, {\"Price\": 2230000, \"Total floor area\": 3669}, {\"Price\": 2353000, \"Total floor area\": 2475}, {\"Price\": 1333780, \"Total floor area\": 1882}, {\"Price\": 1330000, \"Total floor area\": 2444}, {\"Price\": 1270000, \"Total floor area\": 2220}, {\"Price\": 1663000, \"Total floor area\": 2932}, {\"Price\": 1040000, \"Total floor area\": 2246}, {\"Price\": 1448000, \"Total floor area\": 2770}, {\"Price\": 1490000, \"Total floor area\": 1967}, {\"Price\": 2500000, \"Total floor area\": 2060}, {\"Price\": 1976190, \"Total floor area\": 3199}, {\"Price\": 1248500, \"Total floor area\": 1821}, {\"Price\": 1475000, \"Total floor area\": 2780}, {\"Price\": 1290000, \"Total floor area\": 2067}, {\"Price\": 1750000, \"Total floor area\": 2650}, {\"Price\": 1600000, \"Total floor area\": 1592}, {\"Price\": 2850000, \"Total floor area\": 2438}, {\"Price\": 1350000, \"Total floor area\": 1588}, {\"Price\": 2910000, \"Total floor area\": 2907}, {\"Price\": 1300000, \"Total floor area\": 2322}, {\"Price\": 2075000, \"Total floor area\": 1850}, {\"Price\": 1475000, \"Total floor area\": 1585}, {\"Price\": 1335000, \"Total floor area\": 2301}, {\"Price\": 1880000, \"Total floor area\": 2547}, {\"Price\": 2600000, \"Total floor area\": 2648}, {\"Price\": 1030000, \"Total floor area\": 1800}, {\"Price\": 2988000, \"Total floor area\": 3399}, {\"Price\": 2800000, \"Total floor area\": 2850}, {\"Price\": 999000, \"Total floor area\": 1400}, {\"Price\": 2568000, \"Total floor area\": 3001}, {\"Price\": 2480000, \"Total floor area\": 2362}, {\"Price\": 1588000, \"Total floor area\": 2630}, {\"Price\": 1675000, \"Total floor area\": 2474}, {\"Price\": 2200000, \"Total floor area\": 3300}, {\"Price\": 1425000, \"Total floor area\": 2302}, {\"Price\": 1680000, \"Total floor area\": 1816}, {\"Price\": 2230000, \"Total floor area\": 2842}, {\"Price\": 1310000, \"Total floor area\": 1210}, {\"Price\": 925000, \"Total floor area\": 1930}, {\"Price\": 1375000, \"Total floor area\": 2700}, {\"Price\": 1560000, \"Total floor area\": 2246}, {\"Price\": 1494000, \"Total floor area\": 2266}, {\"Price\": 1666000, \"Total floor area\": 3563}, {\"Price\": 1500000, \"Total floor area\": 1565}, {\"Price\": 1370000, \"Total floor area\": 2475}, {\"Price\": 2700000, \"Total floor area\": 3030}, {\"Price\": 1880000, \"Total floor area\": 2950}, {\"Price\": 2520888, \"Total floor area\": 2576}, {\"Price\": 925000, \"Total floor area\": 900}, {\"Price\": 1050000, \"Total floor area\": 1920}, {\"Price\": 1610000, \"Total floor area\": 2950}, {\"Price\": 1220000, \"Total floor area\": 2004}, {\"Price\": 1550000, \"Total floor area\": 2415}, {\"Price\": 1380000, \"Total floor area\": 2993}, {\"Price\": 1845000, \"Total floor area\": 3144}, {\"Price\": 2100000, \"Total floor area\": 1475}, {\"Price\": 2290000, \"Total floor area\": 4475}, {\"Price\": 1300000, \"Total floor area\": 1648}, {\"Price\": 2400000, \"Total floor area\": 3000}, {\"Price\": 2508000, \"Total floor area\": 2448}, {\"Price\": 1555000, \"Total floor area\": 2021}, {\"Price\": 1928000, \"Total floor area\": 2502}, {\"Price\": 1289000, \"Total floor area\": 1572}, {\"Price\": 1130000, \"Total floor area\": 1275}, {\"Price\": 1803800, \"Total floor area\": 1961}, {\"Price\": 1410000, \"Total floor area\": 2441}, {\"Price\": 2300000, \"Total floor area\": 974}, {\"Price\": 2160000, \"Total floor area\": 2495}, {\"Price\": 1400000, \"Total floor area\": 1585}, {\"Price\": 1870000, \"Total floor area\": 1814}, {\"Price\": 2100000, \"Total floor area\": 2513}, {\"Price\": 2117000, \"Total floor area\": 1608}, {\"Price\": 1225000, \"Total floor area\": 1855}, {\"Price\": 1165000, \"Total floor area\": 2120}, {\"Price\": 2215000, \"Total floor area\": 2754}, {\"Price\": 1160000, \"Total floor area\": 1297}, {\"Price\": 1480000, \"Total floor area\": 2200}, {\"Price\": 2325000, \"Total floor area\": 5600}, {\"Price\": 910000, \"Total floor area\": 1611}, {\"Price\": 1840000, \"Total floor area\": 2508}, {\"Price\": 2200000, \"Total floor area\": 3522}, {\"Price\": 1510000, \"Total floor area\": 1886}, {\"Price\": 1454800, \"Total floor area\": 3016}, {\"Price\": 1497000, \"Total floor area\": 2492}, {\"Price\": 2393000, \"Total floor area\": 2345}, {\"Price\": 1838000, \"Total floor area\": 3178}, {\"Price\": 2720000, \"Total floor area\": 3828}, {\"Price\": 2047619, \"Total floor area\": 3458}, {\"Price\": 2371429, \"Total floor area\": 3377}, {\"Price\": 1965000, \"Total floor area\": 2432}, {\"Price\": 2210000, \"Total floor area\": 2524}, {\"Price\": 1500000, \"Total floor area\": 2479}, {\"Price\": 1507000, \"Total floor area\": 2303}, {\"Price\": 1288888, \"Total floor area\": 1980}, {\"Price\": 2820000, \"Total floor area\": 2563}, {\"Price\": 1700000, \"Total floor area\": 2080}, {\"Price\": 2099000, \"Total floor area\": 3160}, {\"Price\": 1520000, \"Total floor area\": 2098}, {\"Price\": 1525000, \"Total floor area\": 2782}, {\"Price\": 1490000, \"Total floor area\": 1411}, {\"Price\": 1650000, \"Total floor area\": 2417}, {\"Price\": 2500000, \"Total floor area\": 2416}, {\"Price\": 1428000, \"Total floor area\": 2510}, {\"Price\": 1488000, \"Total floor area\": 2094}, {\"Price\": 2240000, \"Total floor area\": 2986}, {\"Price\": 1055000, \"Total floor area\": 1890}, {\"Price\": 700000, \"Total floor area\": 2838}, {\"Price\": 1900000, \"Total floor area\": 915}, {\"Price\": 1525000, \"Total floor area\": 2366}, {\"Price\": 1493000, \"Total floor area\": 2136}, {\"Price\": 2700000, \"Total floor area\": 3844}, {\"Price\": 2300000, \"Total floor area\": 2683}, {\"Price\": 1478000, \"Total floor area\": 1528}, {\"Price\": 1590000, \"Total floor area\": 2417}, {\"Price\": 1250000, \"Total floor area\": 2664}, {\"Price\": 1940000, \"Total floor area\": 2284}, {\"Price\": 1168000, \"Total floor area\": 1571}, {\"Price\": 2000000, \"Total floor area\": 2430}, {\"Price\": 1250000, \"Total floor area\": 1858}, {\"Price\": 2000000, \"Total floor area\": 2400}, {\"Price\": 1625000, \"Total floor area\": 1822}, {\"Price\": 2080000, \"Total floor area\": 3356}, {\"Price\": 1070000, \"Total floor area\": 2534}, {\"Price\": 1328888, \"Total floor area\": 2339}, {\"Price\": 2045000, \"Total floor area\": 3519}, {\"Price\": 975000, \"Total floor area\": 690}, {\"Price\": 1650000, \"Total floor area\": 2889}, {\"Price\": 2090000, \"Total floor area\": 2024}, {\"Price\": 2480000, \"Total floor area\": 3113}, {\"Price\": 2280000, \"Total floor area\": 2166}, {\"Price\": 1455800, \"Total floor area\": 2081}, {\"Price\": 1494800, \"Total floor area\": 2318}, {\"Price\": 1333000, \"Total floor area\": 2035}, {\"Price\": 2138000, \"Total floor area\": 2367}, {\"Price\": 1795000, \"Total floor area\": 2892}, {\"Price\": 1140000, \"Total floor area\": 1996}, {\"Price\": 2000000, \"Total floor area\": 2399}, {\"Price\": 1650000, \"Total floor area\": 2581}, {\"Price\": 1620000, \"Total floor area\": 2394}, {\"Price\": 1950000, \"Total floor area\": 3151}, {\"Price\": 2047619, \"Total floor area\": 3620}, {\"Price\": 2699000, \"Total floor area\": 3223}, {\"Price\": 2650000, \"Total floor area\": 2452}, {\"Price\": 1392000, \"Total floor area\": 2382}, {\"Price\": 1228000, \"Total floor area\": 719}, {\"Price\": 1275000, \"Total floor area\": 1699}, {\"Price\": 1060000, \"Total floor area\": 1814}, {\"Price\": 1455000, \"Total floor area\": 1827}, {\"Price\": 1238000, \"Total floor area\": 2250}, {\"Price\": 2400000, \"Total floor area\": 1800}, {\"Price\": 2695000, \"Total floor area\": 2749}, {\"Price\": 1968000, \"Total floor area\": 1393}, {\"Price\": 1650000, \"Total floor area\": 3262}, {\"Price\": 2225000, \"Total floor area\": 3041}, {\"Price\": 1325000, \"Total floor area\": 2459}, {\"Price\": 1235000, \"Total floor area\": 2157}, {\"Price\": 1890000, \"Total floor area\": 3095}, {\"Price\": 1992000, \"Total floor area\": 2100}, {\"Price\": 1170000, \"Total floor area\": 1857}, {\"Price\": 1397500, \"Total floor area\": 2042}, {\"Price\": 2415000, \"Total floor area\": 1402}, {\"Price\": 2989000, \"Total floor area\": 2935}, {\"Price\": 2950000, \"Total floor area\": 3339}, {\"Price\": 1352000, \"Total floor area\": 2155}, {\"Price\": 1500000, \"Total floor area\": 3025}, {\"Price\": 1850000, \"Total floor area\": 2657}, {\"Price\": 1674000, \"Total floor area\": 2438}, {\"Price\": 1260000, \"Total floor area\": 1950}, {\"Price\": 1480000, \"Total floor area\": 2417}, {\"Price\": 2788000, \"Total floor area\": 2747}, {\"Price\": 1850000, \"Total floor area\": 1831}, {\"Price\": 1635000, \"Total floor area\": 2287}, {\"Price\": 1940000, \"Total floor area\": 2609}, {\"Price\": 2420000, \"Total floor area\": 2840}, {\"Price\": 1800000, \"Total floor area\": 1695}, {\"Price\": 1330000, \"Total floor area\": 1963}, {\"Price\": 1035000, \"Total floor area\": 2060}, {\"Price\": 1320000, \"Total floor area\": 1990}, {\"Price\": 2960000, \"Total floor area\": 2796}, {\"Price\": 785000, \"Total floor area\": 1201}, {\"Price\": 1500000, \"Total floor area\": 2157}, {\"Price\": 1100000, \"Total floor area\": 1920}, {\"Price\": 1528000, \"Total floor area\": 2263}, {\"Price\": 2180000, \"Total floor area\": 2782}, {\"Price\": 1509000, \"Total floor area\": 1922}, {\"Price\": 950000, \"Total floor area\": 1850}, {\"Price\": 2250000, \"Total floor area\": 2528}, {\"Price\": 1625000, \"Total floor area\": 2548}, {\"Price\": 1260500, \"Total floor area\": 2386}, {\"Price\": 1325000, \"Total floor area\": 1900}, {\"Price\": 1475000, \"Total floor area\": 1720}, {\"Price\": 1625000, \"Total floor area\": 2348}, {\"Price\": 1044000, \"Total floor area\": 2120}, {\"Price\": 2105000, \"Total floor area\": 3748}, {\"Price\": 1471000, \"Total floor area\": 2620}, {\"Price\": 1420000, \"Total floor area\": 2474}, {\"Price\": 1651000, \"Total floor area\": 3777}, {\"Price\": 1400000, \"Total floor area\": 2309}, {\"Price\": 1650171, \"Total floor area\": 2717}, {\"Price\": 1120000, \"Total floor area\": 1635}, {\"Price\": 3000000, \"Total floor area\": 3365}, {\"Price\": 1598000, \"Total floor area\": 1457}, {\"Price\": 1590000, \"Total floor area\": 1823}, {\"Price\": 1854000, \"Total floor area\": 2422}, {\"Price\": 2345000, \"Total floor area\": 2511}, {\"Price\": 1695000, \"Total floor area\": 2230}, {\"Price\": 985000, \"Total floor area\": 680}, {\"Price\": 2142857, \"Total floor area\": 3623}, {\"Price\": 1630000, \"Total floor area\": 1860}, {\"Price\": 995000, \"Total floor area\": 1579}, {\"Price\": 1300000, \"Total floor area\": 1718}, {\"Price\": 2480000, \"Total floor area\": 2628}, {\"Price\": 2950000, \"Total floor area\": 3643}, {\"Price\": 1620000, \"Total floor area\": 1991}, {\"Price\": 1200000, \"Total floor area\": 1597}, {\"Price\": 1948000, \"Total floor area\": 2114}, {\"Price\": 960000, \"Total floor area\": 800}, {\"Price\": 1563000, \"Total floor area\": 2251}, {\"Price\": 2720000, \"Total floor area\": 3223}, {\"Price\": 1319000, \"Total floor area\": 1533}, {\"Price\": 2130000, \"Total floor area\": 3842}, {\"Price\": 1555000, \"Total floor area\": 2336}, {\"Price\": 1250000, \"Total floor area\": 1619}, {\"Price\": 2265000, \"Total floor area\": 2730}, {\"Price\": 1041000, \"Total floor area\": 2590}, {\"Price\": 1176000, \"Total floor area\": 1581}, {\"Price\": 1280000, \"Total floor area\": 2359}, {\"Price\": 2350000, \"Total floor area\": 2000}, {\"Price\": 1290000, \"Total floor area\": 2005}, {\"Price\": 2050000, \"Total floor area\": 2197}, {\"Price\": 1542180, \"Total floor area\": 2460}, {\"Price\": 2180000, \"Total floor area\": 3537}, {\"Price\": 1391000, \"Total floor area\": 2054}, {\"Price\": 2910000, \"Total floor area\": 2485}, {\"Price\": 1638000, \"Total floor area\": 2013}, {\"Price\": 2950000, \"Total floor area\": 4581}, {\"Price\": 1437500, \"Total floor area\": 2615}, {\"Price\": 2750000, \"Total floor area\": 3931}, {\"Price\": 2356000, \"Total floor area\": 2400}, {\"Price\": 1750000, \"Total floor area\": 3453}, {\"Price\": 1280000, \"Total floor area\": 1933}, {\"Price\": 1237100, \"Total floor area\": 1917}, {\"Price\": 2880000, \"Total floor area\": 2317}, {\"Price\": 2345000, \"Total floor area\": 3249}, {\"Price\": 2175000, \"Total floor area\": 3717}, {\"Price\": 1359000, \"Total floor area\": 1942}, {\"Price\": 1330000, \"Total floor area\": 2100}, {\"Price\": 1585000, \"Total floor area\": 2399}, {\"Price\": 1650000, \"Total floor area\": 2034}, {\"Price\": 1200000, \"Total floor area\": 2094}, {\"Price\": 2779000, \"Total floor area\": 4122}, {\"Price\": 1798000, \"Total floor area\": 1867}, {\"Price\": 2270000, \"Total floor area\": 3669}, {\"Price\": 1000000, \"Total floor area\": 1814}, {\"Price\": 2688000, \"Total floor area\": 2750}, {\"Price\": 2700000, \"Total floor area\": 3615}, {\"Price\": 2949900, \"Total floor area\": 2491}, {\"Price\": 1290000, \"Total floor area\": 1625}, {\"Price\": 2000000, \"Total floor area\": 1700}, {\"Price\": 1058000, \"Total floor area\": 2136}, {\"Price\": 1285000, \"Total floor area\": 2479}, {\"Price\": 1350000, \"Total floor area\": 2106}, {\"Price\": 2230000, \"Total floor area\": 301}, {\"Price\": 2480000, \"Total floor area\": 2482}, {\"Price\": 1351000, \"Total floor area\": 2273}, {\"Price\": 1155000, \"Total floor area\": 1128}, {\"Price\": 2189000, \"Total floor area\": 2221}, {\"Price\": 1530000, \"Total floor area\": 2961}, {\"Price\": 2301000, \"Total floor area\": 3092}, {\"Price\": 940000, \"Total floor area\": 2066}, {\"Price\": 2188000, \"Total floor area\": 2401}, {\"Price\": 1557500, \"Total floor area\": 2030}, {\"Price\": 1333000, \"Total floor area\": 1790}, {\"Price\": 1392000, \"Total floor area\": 2815}, {\"Price\": 1700000, \"Total floor area\": 2050}, {\"Price\": 1615000, \"Total floor area\": 2133}, {\"Price\": 1270000, \"Total floor area\": 1572}, {\"Price\": 2750000, \"Total floor area\": 2949}, {\"Price\": 1452500, \"Total floor area\": 1993}, {\"Price\": 1055000, \"Total floor area\": 1664}, {\"Price\": 1090000, \"Total floor area\": 1566}, {\"Price\": 1582000, \"Total floor area\": 2135}, {\"Price\": 1385000, \"Total floor area\": 2541}, {\"Price\": 1611000, \"Total floor area\": 2938}, {\"Price\": 1629000, \"Total floor area\": 2240}, {\"Price\": 1250000, \"Total floor area\": 1823}, {\"Price\": 2110000, \"Total floor area\": 3457}, {\"Price\": 1725000, \"Total floor area\": 3136}, {\"Price\": 1300000, \"Total floor area\": 2388}, {\"Price\": 1350000, \"Total floor area\": 2324}, {\"Price\": 1199000, \"Total floor area\": 1819}, {\"Price\": 2130000, \"Total floor area\": 3452}, {\"Price\": 1185000, \"Total floor area\": 1224}, {\"Price\": 1633000, \"Total floor area\": 2787}, {\"Price\": 2360000, \"Total floor area\": 3342}, {\"Price\": 1615000, \"Total floor area\": 1944}, {\"Price\": 1275000, \"Total floor area\": 2003}, {\"Price\": 1588008, \"Total floor area\": 2475}, {\"Price\": 2255000, \"Total floor area\": 3128}, {\"Price\": 2041000, \"Total floor area\": 2399}, {\"Price\": 1155000, \"Total floor area\": 2082}, {\"Price\": 2300000, \"Total floor area\": 2172}, {\"Price\": 1153000, \"Total floor area\": 1798}, {\"Price\": 1285000, \"Total floor area\": 2500}, {\"Price\": 1705000, \"Total floor area\": 2509}, {\"Price\": 2000000, \"Total floor area\": 2494}, {\"Price\": 1380000, \"Total floor area\": 1628}, {\"Price\": 1590000, \"Total floor area\": 2100}, {\"Price\": 2210000, \"Total floor area\": 2971}, {\"Price\": 2379047, \"Total floor area\": 3887}, {\"Price\": 2505000, \"Total floor area\": 2708}, {\"Price\": 2850000, \"Total floor area\": 2504}, {\"Price\": 1500800, \"Total floor area\": 2586}, {\"Price\": 2945000, \"Total floor area\": 3615}, {\"Price\": 1175000, \"Total floor area\": 1443}, {\"Price\": 1190000, \"Total floor area\": 1972}, {\"Price\": 1984000, \"Total floor area\": 2828}, {\"Price\": 2335000, \"Total floor area\": 2431}, {\"Price\": 1665000, \"Total floor area\": 2288}, {\"Price\": 1500000, \"Total floor area\": 1951}, {\"Price\": 2512000, \"Total floor area\": 2950}, {\"Price\": 2380000, \"Total floor area\": 2343}, {\"Price\": 2150000, \"Total floor area\": 2192}, {\"Price\": 1380000, \"Total floor area\": 1841}, {\"Price\": 1150000, \"Total floor area\": 1580}, {\"Price\": 1375000, \"Total floor area\": 1836}, {\"Price\": 2650000, \"Total floor area\": 3310}, {\"Price\": 1660000, \"Total floor area\": 2072}, {\"Price\": 1280000, \"Total floor area\": 2381}, {\"Price\": 2338000, \"Total floor area\": 2570}, {\"Price\": 2438000, \"Total floor area\": 3043}, {\"Price\": 2171428, \"Total floor area\": 3491}, {\"Price\": 2490000, \"Total floor area\": 2502}, {\"Price\": 1549000, \"Total floor area\": 2881}, {\"Price\": 2080000, \"Total floor area\": 2114}, {\"Price\": 1230000, \"Total floor area\": 2101}, {\"Price\": 2180000, \"Total floor area\": 2883}, {\"Price\": 3000000, \"Total floor area\": 3893}, {\"Price\": 2743000, \"Total floor area\": 2414}, {\"Price\": 3000000, \"Total floor area\": 4158}, {\"Price\": 1660000, \"Total floor area\": 2261}, {\"Price\": 1709000, \"Total floor area\": 2188}, {\"Price\": 1245000, \"Total floor area\": 2414}, {\"Price\": 2680000, \"Total floor area\": 3334}, {\"Price\": 2110000, \"Total floor area\": 2165}, {\"Price\": 738000, \"Total floor area\": 1153}, {\"Price\": 2200000, \"Total floor area\": 2016}, {\"Price\": 2680000, \"Total floor area\": 4436}, {\"Price\": 1550000, \"Total floor area\": 1676}, {\"Price\": 2300000, \"Total floor area\": 3664}, {\"Price\": 1860000, \"Total floor area\": 3335}, {\"Price\": 1690000, \"Total floor area\": 2152}, {\"Price\": 1058000, \"Total floor area\": 1593}, {\"Price\": 1582500, \"Total floor area\": 2525}, {\"Price\": 1070000, \"Total floor area\": 1735}, {\"Price\": 1865000, \"Total floor area\": 2347}, {\"Price\": 935000, \"Total floor area\": 1620}, {\"Price\": 1575000, \"Total floor area\": 1905}, {\"Price\": 2570000, \"Total floor area\": 3357}, {\"Price\": 1035000, \"Total floor area\": 2450}, {\"Price\": 1560000, \"Total floor area\": 2069}, {\"Price\": 1575000, \"Total floor area\": 2932}, {\"Price\": 2000000, \"Total floor area\": 3492}, {\"Price\": 1798000, \"Total floor area\": 3216}, {\"Price\": 1510000, \"Total floor area\": 1892}, {\"Price\": 2455000, \"Total floor area\": 2324}, {\"Price\": 2548800, \"Total floor area\": 3319}, {\"Price\": 1800000, \"Total floor area\": 1758}, {\"Price\": 2035000, \"Total floor area\": 2813}, {\"Price\": 1228000, \"Total floor area\": 2455}, {\"Price\": 2285000, \"Total floor area\": 2493}, {\"Price\": 1425000, \"Total floor area\": 2443}, {\"Price\": 1615000, \"Total floor area\": 1782}, {\"Price\": 1500000, \"Total floor area\": 2500}, {\"Price\": 1488000, \"Total floor area\": 1924}, {\"Price\": 1726000, \"Total floor area\": 1777}, {\"Price\": 2950000, \"Total floor area\": 3370}, {\"Price\": 2193988, \"Total floor area\": 1749}, {\"Price\": 1288000, \"Total floor area\": 690}, {\"Price\": 860000, \"Total floor area\": 1000}, {\"Price\": 1594000, \"Total floor area\": 2192}, {\"Price\": 1898500, \"Total floor area\": 2068}, {\"Price\": 1244000, \"Total floor area\": 2127}, {\"Price\": 1380000, \"Total floor area\": 2538}, {\"Price\": 1150000, \"Total floor area\": 1299}, {\"Price\": 2300000, \"Total floor area\": 3016}, {\"Price\": 1302000, \"Total floor area\": 2033}, {\"Price\": 2188000, \"Total floor area\": 2566}, {\"Price\": 1730000, \"Total floor area\": 1940}, {\"Price\": 2043000, \"Total floor area\": 2378}, {\"Price\": 2180000, \"Total floor area\": 2140}, {\"Price\": 2050000, \"Total floor area\": 3374}, {\"Price\": 1170000, \"Total floor area\": 1744}, {\"Price\": 1920000, \"Total floor area\": 2526}, {\"Price\": 1950000, \"Total floor area\": 3724}, {\"Price\": 2200000, \"Total floor area\": 3206}, {\"Price\": 2300000, \"Total floor area\": 2224}, {\"Price\": 1299000, \"Total floor area\": 1989}, {\"Price\": 2670000, \"Total floor area\": 4652}, {\"Price\": 2850000, \"Total floor area\": 2818}, {\"Price\": 2380000, \"Total floor area\": 3001}, {\"Price\": 2840000, \"Total floor area\": 5872}, {\"Price\": 1450000, \"Total floor area\": 2606}, {\"Price\": 1636500, \"Total floor area\": 2469}, {\"Price\": 1600000, \"Total floor area\": 2301}, {\"Price\": 1200000, \"Total floor area\": 2228}, {\"Price\": 1549900, \"Total floor area\": 2789}, {\"Price\": 904000, \"Total floor area\": 2166}, {\"Price\": 1350000, \"Total floor area\": 1926}, {\"Price\": 1580000, \"Total floor area\": 2205}, {\"Price\": 1144000, \"Total floor area\": 1953}, {\"Price\": 1070000, \"Total floor area\": 1041}, {\"Price\": 1285000, \"Total floor area\": 2028}, {\"Price\": 1410000, \"Total floor area\": 2347}, {\"Price\": 1602000, \"Total floor area\": 2108}, {\"Price\": 1060000, \"Total floor area\": 1700}, {\"Price\": 2190476, \"Total floor area\": 3412}, {\"Price\": 1358000, \"Total floor area\": 2071}, {\"Price\": 1388000, \"Total floor area\": 1917}, {\"Price\": 1408000, \"Total floor area\": 2067}, {\"Price\": 1577000, \"Total floor area\": 2160}, {\"Price\": 1358000, \"Total floor area\": 2464}, {\"Price\": 1725000, \"Total floor area\": 2894}, {\"Price\": 1605000, \"Total floor area\": 2501}, {\"Price\": 2430000, \"Total floor area\": 2911}, {\"Price\": 1197232, \"Total floor area\": 1754}, {\"Price\": 1500000, \"Total floor area\": 2134}, {\"Price\": 1480000, \"Total floor area\": 2603}, {\"Price\": 1670000, \"Total floor area\": 4100}, {\"Price\": 2150000, \"Total floor area\": 2109}, {\"Price\": 2600000, \"Total floor area\": 3380}, {\"Price\": 2100000, \"Total floor area\": 2942}, {\"Price\": 1280000, \"Total floor area\": 1586}, {\"Price\": 1890000, \"Total floor area\": 2757}, {\"Price\": 1470000, \"Total floor area\": 2500}, {\"Price\": 1235000, \"Total floor area\": 2392}, {\"Price\": 1586000, \"Total floor area\": 2309}, {\"Price\": 1260000, \"Total floor area\": 1808}, {\"Price\": 2398000, \"Total floor area\": 2760}, {\"Price\": 2000000, \"Total floor area\": 3448}, {\"Price\": 1106000, \"Total floor area\": 1485}, {\"Price\": 1558000, \"Total floor area\": 2091}, {\"Price\": 960000, \"Total floor area\": 2142}, {\"Price\": 1652000, \"Total floor area\": 2016}, {\"Price\": 1230000, \"Total floor area\": 2240}, {\"Price\": 1185000, \"Total floor area\": 2223}, {\"Price\": 1500000, \"Total floor area\": 1695}, {\"Price\": 1060000, \"Total floor area\": 1650}, {\"Price\": 1655000, \"Total floor area\": 2354}, {\"Price\": 2605000, \"Total floor area\": 2487}, {\"Price\": 2880000, \"Total floor area\": 3004}, {\"Price\": 3000000, \"Total floor area\": 2765}, {\"Price\": 2350000, \"Total floor area\": 3481}, {\"Price\": 1100000, \"Total floor area\": 1250}, {\"Price\": 1600000, \"Total floor area\": 3188}, {\"Price\": 1185000, \"Total floor area\": 2308}, {\"Price\": 1500000, \"Total floor area\": 2101}, {\"Price\": 2798000, \"Total floor area\": 2498}, {\"Price\": 1245000, \"Total floor area\": 1660}, {\"Price\": 2456000, \"Total floor area\": 3303}, {\"Price\": 1220000, \"Total floor area\": 1857}, {\"Price\": 1400000, \"Total floor area\": 2092}, {\"Price\": 1350000, \"Total floor area\": 2732}, {\"Price\": 1950000, \"Total floor area\": 2152}, {\"Price\": 1314000, \"Total floor area\": 2650}, {\"Price\": 2175000, \"Total floor area\": 1636}, {\"Price\": 1950000, \"Total floor area\": 2964}, {\"Price\": 1210000, \"Total floor area\": 1446}, {\"Price\": 1360000, \"Total floor area\": 2782}, {\"Price\": 1380000, \"Total floor area\": 1876}, {\"Price\": 1850000, \"Total floor area\": 1932}, {\"Price\": 2450000, \"Total floor area\": 2409}, {\"Price\": 1416000, \"Total floor area\": 1771}, {\"Price\": 1620000, \"Total floor area\": 3160}, {\"Price\": 1790000, \"Total floor area\": 3026}, {\"Price\": 1860000, \"Total floor area\": 2389}, {\"Price\": 1260000, \"Total floor area\": 2267}, {\"Price\": 2321905, \"Total floor area\": 2355}, {\"Price\": 2825000, \"Total floor area\": 6556}, {\"Price\": 2500000, \"Total floor area\": 2715}, {\"Price\": 1440000, \"Total floor area\": 2177}, {\"Price\": 1650000, \"Total floor area\": 2316}, {\"Price\": 2988221, \"Total floor area\": 2794}, {\"Price\": 1084600, \"Total floor area\": 867}, {\"Price\": 1250000, \"Total floor area\": 2361}, {\"Price\": 1450000, \"Total floor area\": 2285}, {\"Price\": 1905000, \"Total floor area\": 2630}, {\"Price\": 2036190, \"Total floor area\": 3369}, {\"Price\": 1488000, \"Total floor area\": 2200}, {\"Price\": 2800000, \"Total floor area\": 2816}, {\"Price\": 1080000, \"Total floor area\": 1712}, {\"Price\": 1354000, \"Total floor area\": 2352}, {\"Price\": 1210000, \"Total floor area\": 1646}, {\"Price\": 1230000, \"Total floor area\": 2358}, {\"Price\": 1100000, \"Total floor area\": 922}, {\"Price\": 2115000, \"Total floor area\": 3515}, {\"Price\": 1665000, \"Total floor area\": 2205}, {\"Price\": 1550000, \"Total floor area\": 2686}, {\"Price\": 1250000, \"Total floor area\": 2632}, {\"Price\": 1482000, \"Total floor area\": 1940}, {\"Price\": 2880000, \"Total floor area\": 2959}, {\"Price\": 1385000, \"Total floor area\": 2279}, {\"Price\": 1225000, \"Total floor area\": 1670}, {\"Price\": 2050000, \"Total floor area\": 2046}, {\"Price\": 840000, \"Total floor area\": 906}, {\"Price\": 2802000, \"Total floor area\": 3603}, {\"Price\": 2900000, \"Total floor area\": 2407}, {\"Price\": 1085000, \"Total floor area\": 2028}, {\"Price\": 1570000, \"Total floor area\": 2599}, {\"Price\": 2468000, \"Total floor area\": 2586}, {\"Price\": 1325000, \"Total floor area\": 2036}, {\"Price\": 1265000, \"Total floor area\": 1660}, {\"Price\": 1180000, \"Total floor area\": 1780}, {\"Price\": 1300000, \"Total floor area\": 2450}, {\"Price\": 2575000, \"Total floor area\": 2400}, {\"Price\": 1155000, \"Total floor area\": 1585}, {\"Price\": 2273000, \"Total floor area\": 2191}, {\"Price\": 2700000, \"Total floor area\": 2645}, {\"Price\": 1265000, \"Total floor area\": 2394}, {\"Price\": 1925000, \"Total floor area\": 2253}, {\"Price\": 1715000, \"Total floor area\": 2679}, {\"Price\": 1125000, \"Total floor area\": 1520}, {\"Price\": 1498000, \"Total floor area\": 2313}, {\"Price\": 1850000, \"Total floor area\": 2651}, {\"Price\": 1350000, \"Total floor area\": 2444}, {\"Price\": 1555000, \"Total floor area\": 2251}, {\"Price\": 2080714, \"Total floor area\": 2774}, {\"Price\": 1550000, \"Total floor area\": 1985}, {\"Price\": 1360000, \"Total floor area\": 1682}, {\"Price\": 1189000, \"Total floor area\": 3189}, {\"Price\": 2050000, \"Total floor area\": 3050}, {\"Price\": 1375000, \"Total floor area\": 2168}, {\"Price\": 1375000, \"Total floor area\": 3600}, {\"Price\": 2965000, \"Total floor area\": 2850}, {\"Price\": 2988000, \"Total floor area\": 3900}, {\"Price\": 2100000, \"Total floor area\": 3000}, {\"Price\": 1250000, \"Total floor area\": 1822}, {\"Price\": 1472000, \"Total floor area\": 2210}, {\"Price\": 2300000, \"Total floor area\": 3644}, {\"Price\": 2890000, \"Total floor area\": 3249}, {\"Price\": 2700000, \"Total floor area\": 3495}, {\"Price\": 2570000, \"Total floor area\": 2779}, {\"Price\": 1650000, \"Total floor area\": 1860}, {\"Price\": 1680000, \"Total floor area\": 1618}, {\"Price\": 2680000, \"Total floor area\": 3374}, {\"Price\": 1147000, \"Total floor area\": 1539}, {\"Price\": 1632000, \"Total floor area\": 2780}, {\"Price\": 1500000, \"Total floor area\": 2606}, {\"Price\": 1450000, \"Total floor area\": 1900}, {\"Price\": 2600000, \"Total floor area\": 2096}, {\"Price\": 1500000, \"Total floor area\": 2012}, {\"Price\": 1038000, \"Total floor area\": 1684}, {\"Price\": 1250000, \"Total floor area\": 1518}, {\"Price\": 1907619, \"Total floor area\": 3400}, {\"Price\": 1470000, \"Total floor area\": 2538}, {\"Price\": 2200000, \"Total floor area\": 2293}, {\"Price\": 1188800, \"Total floor area\": 1344}, {\"Price\": 2805000, \"Total floor area\": 2017}, {\"Price\": 2200000, \"Total floor area\": 2253}, {\"Price\": 1210000, \"Total floor area\": 2335}, {\"Price\": 2488888, \"Total floor area\": 1872}, {\"Price\": 1711000, \"Total floor area\": 2079}, {\"Price\": 1450000, \"Total floor area\": 2272}, {\"Price\": 1630000, \"Total floor area\": 2501}, {\"Price\": 2250000, \"Total floor area\": 1786}, {\"Price\": 1432000, \"Total floor area\": 2098}, {\"Price\": 1408000, \"Total floor area\": 1927}, {\"Price\": 2190000, \"Total floor area\": 2631}, {\"Price\": 2788000, \"Total floor area\": 3811}, {\"Price\": 1310000, \"Total floor area\": 2364}, {\"Price\": 1140000, \"Total floor area\": 1981}, {\"Price\": 1500000, \"Total floor area\": 2794}, {\"Price\": 1555000, \"Total floor area\": 2161}, {\"Price\": 1780000, \"Total floor area\": 2572}, {\"Price\": 1388000, \"Total floor area\": 1826}, {\"Price\": 1680100, \"Total floor area\": 2938}, {\"Price\": 1275000, \"Total floor area\": 1900}, {\"Price\": 2450000, \"Total floor area\": 3059}, {\"Price\": 1160000, \"Total floor area\": 2242}, {\"Price\": 1360000, \"Total floor area\": 1468}, {\"Price\": 1200000, \"Total floor area\": 2540}, {\"Price\": 2250000, \"Total floor area\": 2429}, {\"Price\": 1588000, \"Total floor area\": 1900}, {\"Price\": 2430000, \"Total floor area\": 2974}, {\"Price\": 1225000, \"Total floor area\": 1706}, {\"Price\": 2800000, \"Total floor area\": 2282}, {\"Price\": 1320000, \"Total floor area\": 2440}, {\"Price\": 1238000, \"Total floor area\": 1665}, {\"Price\": 2900000, \"Total floor area\": 3215}, {\"Price\": 1285000, \"Total floor area\": 2300}, {\"Price\": 1327000, \"Total floor area\": 1263}, {\"Price\": 1555000, \"Total floor area\": 2904}, {\"Price\": 2660000, \"Total floor area\": 4809}, {\"Price\": 1065000, \"Total floor area\": 2400}, {\"Price\": 1638000, \"Total floor area\": 3586}, {\"Price\": 2050000, \"Total floor area\": 3298}, {\"Price\": 935000, \"Total floor area\": 2010}, {\"Price\": 2250000, \"Total floor area\": 2611}, {\"Price\": 1900000, \"Total floor area\": 4419}, {\"Price\": 1265000, \"Total floor area\": 1500}, {\"Price\": 2240000, \"Total floor area\": 2530}, {\"Price\": 2100000, \"Total floor area\": 2727}, {\"Price\": 1480000, \"Total floor area\": 2462}, {\"Price\": 2080000, \"Total floor area\": 2584}, {\"Price\": 2483810, \"Total floor area\": 2624}, {\"Price\": 1372000, \"Total floor area\": 2271}, {\"Price\": 2825000, \"Total floor area\": 4625}, {\"Price\": 1252000, \"Total floor area\": 2553}, {\"Price\": 1715000, \"Total floor area\": 2610}, {\"Price\": 1400000, \"Total floor area\": 2497}, {\"Price\": 1290000, \"Total floor area\": 1841}, {\"Price\": 2470000, \"Total floor area\": 2597}, {\"Price\": 2700000, \"Total floor area\": 3841}, {\"Price\": 1030000, \"Total floor area\": 1600}, {\"Price\": 950000, \"Total floor area\": 1601}, {\"Price\": 1660000, \"Total floor area\": 2322}, {\"Price\": 2315000, \"Total floor area\": 2235}, {\"Price\": 1869000, \"Total floor area\": 3578}, {\"Price\": 1190000, \"Total floor area\": 945}, {\"Price\": 2048000, \"Total floor area\": 2066}, {\"Price\": 1885000, \"Total floor area\": 2857}, {\"Price\": 1601000, \"Total floor area\": 2119}, {\"Price\": 1844000, \"Total floor area\": 2728}, {\"Price\": 1230000, \"Total floor area\": 2458}, {\"Price\": 1500000, \"Total floor area\": 2136}, {\"Price\": 1425000, \"Total floor area\": 1838}, {\"Price\": 3000000, \"Total floor area\": 2489}, {\"Price\": 1550000, \"Total floor area\": 2400}, {\"Price\": 1430000, \"Total floor area\": 1791}, {\"Price\": 1900000, \"Total floor area\": 2287}, {\"Price\": 1230000, \"Total floor area\": 1570}, {\"Price\": 1450000, \"Total floor area\": 2484}, {\"Price\": 1450000, \"Total floor area\": 2398}, {\"Price\": 2255000, \"Total floor area\": 2366}, {\"Price\": 1400000, \"Total floor area\": 2575}, {\"Price\": 1715000, \"Total floor area\": 3000}, {\"Price\": 1145000, \"Total floor area\": 2310}, {\"Price\": 1313000, \"Total floor area\": 2230}, {\"Price\": 1188000, \"Total floor area\": 1980}, {\"Price\": 2100000, \"Total floor area\": 3450}, {\"Price\": 2700000, \"Total floor area\": 3300}, {\"Price\": 2900000, \"Total floor area\": 2823}, {\"Price\": 1360000, \"Total floor area\": 1518}, {\"Price\": 1519000, \"Total floor area\": 2395}, {\"Price\": 1110000, \"Total floor area\": 2523}, {\"Price\": 1510000, \"Total floor area\": 1894}, {\"Price\": 1880000, \"Total floor area\": 3151}, {\"Price\": 1433000, \"Total floor area\": 2577}, {\"Price\": 1716250, \"Total floor area\": 2797}, {\"Price\": 1830000, \"Total floor area\": 2336}, {\"Price\": 3000000, \"Total floor area\": 2997}, {\"Price\": 2600000, \"Total floor area\": 3744}, {\"Price\": 2800000, \"Total floor area\": 2444}, {\"Price\": 2400000, \"Total floor area\": 3720}, {\"Price\": 1555000, \"Total floor area\": 2442}, {\"Price\": 2950000, \"Total floor area\": 2814}, {\"Price\": 2761905, \"Total floor area\": 3082}, {\"Price\": 2850000, \"Total floor area\": 2594}, {\"Price\": 1240200, \"Total floor area\": 2525}, {\"Price\": 2500000, \"Total floor area\": 4370}, {\"Price\": 1235000, \"Total floor area\": 1774}, {\"Price\": 1988000, \"Total floor area\": 3745}, {\"Price\": 2715000, \"Total floor area\": 2971}, {\"Price\": 1475000, \"Total floor area\": 2849}, {\"Price\": 1900000, \"Total floor area\": 2252}, {\"Price\": 1085000, \"Total floor area\": 1673}, {\"Price\": 1190000, \"Total floor area\": 1459}, {\"Price\": 2848000, \"Total floor area\": 2475}, {\"Price\": 1438000, \"Total floor area\": 3172}, {\"Price\": 1950000, \"Total floor area\": 3850}, {\"Price\": 2300000, \"Total floor area\": 2270}, {\"Price\": 1588000, \"Total floor area\": 2628}, {\"Price\": 1450000, \"Total floor area\": 2106}, {\"Price\": 1746000, \"Total floor area\": 2214}, {\"Price\": 1150000, \"Total floor area\": 1950}, {\"Price\": 1470000, \"Total floor area\": 2304}, {\"Price\": 1750000, \"Total floor area\": 2589}, {\"Price\": 1985000, \"Total floor area\": 2651}, {\"Price\": 1070000, \"Total floor area\": 1730}, {\"Price\": 953000, \"Total floor area\": 1572}, {\"Price\": 960000, \"Total floor area\": 1700}, {\"Price\": 1250000, \"Total floor area\": 2250}, {\"Price\": 1960000, \"Total floor area\": 2017}, {\"Price\": 1030000, \"Total floor area\": 1700}, {\"Price\": 1820000, \"Total floor area\": 2392}, {\"Price\": 1386000, \"Total floor area\": 2020}, {\"Price\": 1350000, \"Total floor area\": 2432}, {\"Price\": 1275000, \"Total floor area\": 1786}, {\"Price\": 1599000, \"Total floor area\": 2503}, {\"Price\": 1268000, \"Total floor area\": 1790}, {\"Price\": 1300000, \"Total floor area\": 2578}, {\"Price\": 2285714, \"Total floor area\": 3327}, {\"Price\": 1165000, \"Total floor area\": 1836}, {\"Price\": 1200000, \"Total floor area\": 1977}, {\"Price\": 2450000, \"Total floor area\": 2754}, {\"Price\": 2350000, \"Total floor area\": 2578}, {\"Price\": 2125000, \"Total floor area\": 2621}, {\"Price\": 1258000, \"Total floor area\": 1845}, {\"Price\": 2135000, \"Total floor area\": 1980}, {\"Price\": 1903000, \"Total floor area\": 2562}, {\"Price\": 1928000, \"Total floor area\": 2017}, {\"Price\": 1540000, \"Total floor area\": 2262}, {\"Price\": 1210000, \"Total floor area\": 1710}, {\"Price\": 1590000, \"Total floor area\": 1953}, {\"Price\": 1820000, \"Total floor area\": 3979}, {\"Price\": 2585000, \"Total floor area\": 2558}, {\"Price\": 2780000, \"Total floor area\": 2447}, {\"Price\": 1518000, \"Total floor area\": 2454}, {\"Price\": 3000000, \"Total floor area\": 4040}, {\"Price\": 2135000, \"Total floor area\": 2985}, {\"Price\": 1361400, \"Total floor area\": 2630}, {\"Price\": 880000, \"Total floor area\": 1747}, {\"Price\": 1029000, \"Total floor area\": 1700}, {\"Price\": 1425000, \"Total floor area\": 2090}, {\"Price\": 1909750, \"Total floor area\": 2100}, {\"Price\": 1050000, \"Total floor area\": 2200}, {\"Price\": 1180000, \"Total floor area\": 1840}, {\"Price\": 1375000, \"Total floor area\": 2337}, {\"Price\": 1930000, \"Total floor area\": 4272}, {\"Price\": 2630000, \"Total floor area\": 3035}, {\"Price\": 1450000, \"Total floor area\": 2282}, {\"Price\": 2798000, \"Total floor area\": 3501}, {\"Price\": 900000, \"Total floor area\": 2440}, {\"Price\": 1600000, \"Total floor area\": 2627}]}}, {\"mode\": \"vega-lite\"});\n",
       "</script>"
      ],
      "text/plain": [
       "alt.Chart(...)"
      ]
     },
     "execution_count": 7,
     "metadata": {},
     "output_type": "execute_result"
    }
   ],
   "source": [
    "#record minimum and maximum values in the prices columns\n",
    "min_price = home_prices['Price'].min()\n",
    "max_price = home_prices['Price'].max()\n",
    "\n",
    "# Create the scatter plot with adjusted y-axis scale\n",
    "scatter_plot = alt.Chart(home_prices).mark_circle(opacity=0.5).encode(\n",
    "    alt.X('Total floor area:Q', title='Total Floor Area (sq ft)'),\n",
    "    alt.Y('Price:Q', scale=alt.Scale(domain=(min_price, max_price)), title='Price (CAD)'),\n",
    "    tooltip=['Total floor area:Q', 'Price:Q']\n",
    ").properties(\n",
    "    width=600,\n",
    "    height=600,\n",
    "    title='Scatter Plot of Price vs. Total Floor Area'\n",
    ")\n",
    "\n",
    "scatter_plot"
   ]
  },
  {
   "cell_type": "markdown",
   "id": "475e8184-45d6-4311-a6e2-e6afbed972a3",
   "metadata": {
    "jp-MarkdownHeadingCollapsed": true
   },
   "source": [
    "# Methods: #\n",
    "The data analysis will be conducted using regression by the K-nearest neighbors algorithm. The predictive variable used will be the total floor area of each house, a significant feature buyers consider when looking at new properties. This will therefore be a helpful variable to use in the model, allowing one to predict the price based on how big a house is. \n",
    "\n",
    "During our analysis, we will use cross-validation to determine the ideal K value. In general, the K value should follow the overall trend in the training data, while steering clear of the fluctuations and variations in price. This will allow the model to transfer successfully to the new testing data and prevent over/underfitting. After determining the optimal K value, we will train the regression model on the training data set, make predictions on the test data, and compute the RMSPE to evaluate the model.\n",
    "\n",
    "One way we will visualize the results is a scatter plot with floor area and price on the x-axis and y-axis respectively. A prediction line can be added to the scatter plot so that we can visualize how well the regression model fits the data and overall trend.\n"
   ]
  },
  {
   "cell_type": "markdown",
   "id": "de41e7f2-0bb4-44ea-a081-ad96ce6fc76e",
   "metadata": {},
   "source": [
    "# Expected outcomes and significance (Vincent): #\n",
    "\n",
    "We expect to find that as the total floor area increases, the selling price will also increase.\n",
    "\n",
    "Being able to predict the selling price of a new house will help home buyers and sellers understand whether a home is fairly priced, overpriced, or underpriced which will inform pricing and negotiations.\n",
    "\n",
    "This project could lead to further questions like:\n",
    "\n",
    "1. Where are homes most expensive?\n",
    "2. How does square footage affect how long it takes to sell a house?\n",
    "3. How does the home's age affect its sale price?"
   ]
  },
  {
   "cell_type": "code",
   "execution_count": null,
   "id": "8e50a6b2-ffc5-4391-9552-07f310fd9fcb",
   "metadata": {},
   "outputs": [],
   "source": []
  }
 ],
 "metadata": {
  "kernelspec": {
   "display_name": "Python 3 (ipykernel)",
   "language": "python",
   "name": "python3"
  },
  "language_info": {
   "codemirror_mode": {
    "name": "ipython",
    "version": 3
   },
   "file_extension": ".py",
   "mimetype": "text/x-python",
   "name": "python",
   "nbconvert_exporter": "python",
   "pygments_lexer": "ipython3",
   "version": "3.11.6"
  }
 },
 "nbformat": 4,
 "nbformat_minor": 5
}
