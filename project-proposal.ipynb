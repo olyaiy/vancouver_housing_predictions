{
 "cells": [
  {
   "cell_type": "markdown",
   "id": "aeae786a",
   "metadata": {},
   "source": [
    "# Examining The Influence Of Square Footage On The Selling Price Of Houses In Vancouver #"
   ]
  },
  {
   "cell_type": "markdown",
   "id": "cffe2627",
   "metadata": {},
   "source": [
    "## Introduction: ##\n",
    "The price of a house can depend on a multitude of factors, including location, size, the age of the home, and many others. Based on information about the property, predictions can be made about the selling price of a home compared to others in the area.\n",
    "\n",
    "The goal of our project is to utilize regression analysis to determine the relationship between price and total square footage of houses in Vancouver. We will do this using a  [publicly available dataset from the website Kaggle](https://www.kaggle.com/datasets/darianghorbanian/vancouver-home-price-analysis-regression), which has price data, square footage, and other details about Vancouver houses from 2017-2020. \n",
    "\n",
    "Our Predictive Question is: “Does the square footage of a house in Vancouver have an impact on its selling price?”"
   ]
  },
  {
   "cell_type": "markdown",
   "id": "ec13c401-b15c-40a9-9bf4-6d84e9df3c70",
   "metadata": {},
   "source": [
    "## Discussion ##\n",
    "- summarize what you found\n",
    "- discuss whether this is what you expected to find?\n",
    "- discuss what impact could such findings have?\n",
    "- discuss what future questions could this lead to?"
   ]
  },
  {
   "cell_type": "markdown",
   "id": "97a4bc00-94b6-4cea-a36a-c17abaeb1b9e",
   "metadata": {},
   "source": [
    "## References: ##\n",
    "- At least 2 citations of literature relevant to the project (format is your choice, just be consistent across the references).\n",
    "- Make sure to cite the source of your data as well."
   ]
  }
 ],
 "metadata": {
  "kernelspec": {
   "display_name": "Python 3 (ipykernel)",
   "language": "python",
   "name": "python3"
  },
  "language_info": {
   "codemirror_mode": {
    "name": "ipython",
    "version": 3
   },
   "file_extension": ".py",
   "mimetype": "text/x-python",
   "name": "python",
   "nbconvert_exporter": "python",
   "pygments_lexer": "ipython3",
   "version": "3.11.6"
  }
 },
 "nbformat": 4,
 "nbformat_minor": 5
}
